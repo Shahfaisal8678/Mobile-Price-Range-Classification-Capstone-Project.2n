{
  "cells": [
    {
      "cell_type": "markdown",
      "metadata": {
        "id": "view-in-github",
        "colab_type": "text"
      },
      "source": [
        "<a href=\"https://colab.research.google.com/github/Shahfaisal8678/Mobile-Price-Range-Classification-Capstone-Project.2n/blob/main/Mobile_Price_Range(Classification)_Capstone_Project_2.ipynb\" target=\"_parent\"><img src=\"https://colab.research.google.com/assets/colab-badge.svg\" alt=\"Open In Colab\"/></a>"
      ]
    },
    {
      "cell_type": "markdown",
      "metadata": {
        "id": "ddf2gLnZUmJa"
      },
      "source": [
        "# **Project Name -**\n",
        "\n",
        "Mobile Price Range (Classification) Capstone Project\n",
        "\n",
        "Contribution - Individual\n",
        "\n",
        "Name - Shah Faisal"
      ]
    },
    {
      "cell_type": "markdown",
      "metadata": {
        "id": "kbrPAMF-vW3X"
      },
      "source": [
        "# ***Problem Statement***\n",
        "\n",
        "\n",
        "*   Mobile Phones have become great necessity for almost all individuals now a days. People want more features and best specification in phone and that too at cheaper cost. The demand of the phone is high that there is a huge competition prevailing between mobile manufactures. To stay ahead is race, these companies try to bring in new features as innovation so that people are lured toward buying there brand smartphones.\n",
        "\n",
        "*    Price of mobile phones is influenced by different factors. Brand\n",
        "name, newness of the model, internal memory, ram, sizes, cinnectivity, are some of the important factor in determining the price. As a bussines point of view, it becomes an utmost priority to analyse the factor form time to time and come up with best set of specification of price ranges so that people buy their mobile phones.\n",
        "\n",
        "*   Hence, Through this exercise and our prediction we will try to help companies estimate price range competition to other manufacturer and it will be useful for customers to verify the price of mobile.\n",
        "\n",
        "  \n",
        "\n",
        "   \n",
        "\n",
        "\n"
      ]
    },
    {
      "cell_type": "markdown",
      "metadata": {
        "id": "6v684LDZ2k8k"
      },
      "source": [
        "# **Data Summary**\n",
        "\n",
        "The content of the data had these features;\n",
        "*   Battery power total energy a battery can store in time measures in mAh.\n",
        "*   Clock speed-speed at which microprocessor execute instruction Fc, Pc and primary camera megapixel.\n",
        "*   Int memory-interal memory in Gigabytes.\n",
        "*   M_dep-mobile depth in cm.\n",
        "*   Mobile weight of mobile phones.\n",
        "*   N_core-No. of cores of processors.\n",
        "\n",
        "*   Px_height, Px_width access memory in megabytes Sc_h,Sc_w-screen height and width of mobile.\n",
        "*   Talk time longest that a single battery will last when you are on call.\n",
        "\n",
        "*   Blue, 3g,4g,dual sim touchscreen wifi some supported and unsupported categories.\n",
        "\n",
        "\n",
        "\n",
        "\n",
        "\n",
        "\n",
        "\n",
        "\n"
      ]
    },
    {
      "cell_type": "markdown",
      "metadata": {
        "id": "xwHaYEhs4-cz"
      },
      "source": [
        "# **Github Link**\n",
        "https://github.com/Shahfaisal8678/Mobile-Price-Range-Classification-Capstone-Project.2n.git"
      ]
    },
    {
      "cell_type": "markdown",
      "metadata": {
        "id": "jQqpUP2fSq1B"
      },
      "source": [
        "# ****Methodology****\n",
        "\n",
        "We will proceed with reading the data, and then perform data analysis. After data we will find out the distribution and data types. We will train two or more classificatin algorithms to predict the output. We will also compare the outputs. Let us get started with the project implementation."
      ]
    },
    {
      "cell_type": "code",
      "execution_count": null,
      "metadata": {
        "id": "gJW5PzIApiHh"
      },
      "outputs": [],
      "source": [
        "#importing library that are provided\n",
        "import pandas as pd\n",
        "import numpy as np\n",
        "import matplotlib.pyplot as plt\n",
        "import seaborn as sns\n",
        "from sklearn.preprocessing import StandardScaler\n",
        "from sklearn.metrics import accuracy_score\n",
        "import missingno as msno\n"
      ]
    },
    {
      "cell_type": "markdown",
      "metadata": {
        "id": "P8c_DWdEF6YF"
      },
      "source": [
        "Now, we read the data view an overview of the data."
      ]
    },
    {
      "cell_type": "code",
      "execution_count": null,
      "metadata": {
        "id": "8yaNvJXn6Dul"
      },
      "outputs": [],
      "source": [
        "df= pd.read_csv('/content/drive/MyDrive/data_mobile_price_range.csv')"
      ]
    },
    {
      "cell_type": "markdown",
      "source": [
        "# **Understanding Data**"
      ],
      "metadata": {
        "id": "o4qPBRnM7IdI"
      }
    },
    {
      "cell_type": "code",
      "execution_count": null,
      "metadata": {
        "colab": {
          "base_uri": "https://localhost:8080/",
          "height": 299
        },
        "id": "1OyFARvL6jpX",
        "outputId": "baf9b65e-9d67-45f3-f30d-fcd2a21fa00c"
      },
      "outputs": [
        {
          "output_type": "execute_result",
          "data": {
            "text/plain": [
              "   battery_power  blue  clock_speed  dual_sim  fc  four_g  int_memory  m_dep  \\\n",
              "0            842     0          2.2         0   1       0           7    0.6   \n",
              "1           1021     1          0.5         1   0       1          53    0.7   \n",
              "2            563     1          0.5         1   2       1          41    0.9   \n",
              "3            615     1          2.5         0   0       0          10    0.8   \n",
              "4           1821     1          1.2         0  13       1          44    0.6   \n",
              "\n",
              "   mobile_wt  n_cores  ...  px_height  px_width   ram  sc_h  sc_w  talk_time  \\\n",
              "0        188        2  ...         20       756  2549     9     7         19   \n",
              "1        136        3  ...        905      1988  2631    17     3          7   \n",
              "2        145        5  ...       1263      1716  2603    11     2          9   \n",
              "3        131        6  ...       1216      1786  2769    16     8         11   \n",
              "4        141        2  ...       1208      1212  1411     8     2         15   \n",
              "\n",
              "   three_g  touch_screen  wifi  price_range  \n",
              "0        0             0     1            1  \n",
              "1        1             1     0            2  \n",
              "2        1             1     0            2  \n",
              "3        1             0     0            2  \n",
              "4        1             1     0            1  \n",
              "\n",
              "[5 rows x 21 columns]"
            ],
            "text/html": [
              "\n",
              "\n",
              "  <div id=\"df-449c754c-2b47-4668-80e2-104dcde63b6c\">\n",
              "    <div class=\"colab-df-container\">\n",
              "      <div>\n",
              "<style scoped>\n",
              "    .dataframe tbody tr th:only-of-type {\n",
              "        vertical-align: middle;\n",
              "    }\n",
              "\n",
              "    .dataframe tbody tr th {\n",
              "        vertical-align: top;\n",
              "    }\n",
              "\n",
              "    .dataframe thead th {\n",
              "        text-align: right;\n",
              "    }\n",
              "</style>\n",
              "<table border=\"1\" class=\"dataframe\">\n",
              "  <thead>\n",
              "    <tr style=\"text-align: right;\">\n",
              "      <th></th>\n",
              "      <th>battery_power</th>\n",
              "      <th>blue</th>\n",
              "      <th>clock_speed</th>\n",
              "      <th>dual_sim</th>\n",
              "      <th>fc</th>\n",
              "      <th>four_g</th>\n",
              "      <th>int_memory</th>\n",
              "      <th>m_dep</th>\n",
              "      <th>mobile_wt</th>\n",
              "      <th>n_cores</th>\n",
              "      <th>...</th>\n",
              "      <th>px_height</th>\n",
              "      <th>px_width</th>\n",
              "      <th>ram</th>\n",
              "      <th>sc_h</th>\n",
              "      <th>sc_w</th>\n",
              "      <th>talk_time</th>\n",
              "      <th>three_g</th>\n",
              "      <th>touch_screen</th>\n",
              "      <th>wifi</th>\n",
              "      <th>price_range</th>\n",
              "    </tr>\n",
              "  </thead>\n",
              "  <tbody>\n",
              "    <tr>\n",
              "      <th>0</th>\n",
              "      <td>842</td>\n",
              "      <td>0</td>\n",
              "      <td>2.2</td>\n",
              "      <td>0</td>\n",
              "      <td>1</td>\n",
              "      <td>0</td>\n",
              "      <td>7</td>\n",
              "      <td>0.6</td>\n",
              "      <td>188</td>\n",
              "      <td>2</td>\n",
              "      <td>...</td>\n",
              "      <td>20</td>\n",
              "      <td>756</td>\n",
              "      <td>2549</td>\n",
              "      <td>9</td>\n",
              "      <td>7</td>\n",
              "      <td>19</td>\n",
              "      <td>0</td>\n",
              "      <td>0</td>\n",
              "      <td>1</td>\n",
              "      <td>1</td>\n",
              "    </tr>\n",
              "    <tr>\n",
              "      <th>1</th>\n",
              "      <td>1021</td>\n",
              "      <td>1</td>\n",
              "      <td>0.5</td>\n",
              "      <td>1</td>\n",
              "      <td>0</td>\n",
              "      <td>1</td>\n",
              "      <td>53</td>\n",
              "      <td>0.7</td>\n",
              "      <td>136</td>\n",
              "      <td>3</td>\n",
              "      <td>...</td>\n",
              "      <td>905</td>\n",
              "      <td>1988</td>\n",
              "      <td>2631</td>\n",
              "      <td>17</td>\n",
              "      <td>3</td>\n",
              "      <td>7</td>\n",
              "      <td>1</td>\n",
              "      <td>1</td>\n",
              "      <td>0</td>\n",
              "      <td>2</td>\n",
              "    </tr>\n",
              "    <tr>\n",
              "      <th>2</th>\n",
              "      <td>563</td>\n",
              "      <td>1</td>\n",
              "      <td>0.5</td>\n",
              "      <td>1</td>\n",
              "      <td>2</td>\n",
              "      <td>1</td>\n",
              "      <td>41</td>\n",
              "      <td>0.9</td>\n",
              "      <td>145</td>\n",
              "      <td>5</td>\n",
              "      <td>...</td>\n",
              "      <td>1263</td>\n",
              "      <td>1716</td>\n",
              "      <td>2603</td>\n",
              "      <td>11</td>\n",
              "      <td>2</td>\n",
              "      <td>9</td>\n",
              "      <td>1</td>\n",
              "      <td>1</td>\n",
              "      <td>0</td>\n",
              "      <td>2</td>\n",
              "    </tr>\n",
              "    <tr>\n",
              "      <th>3</th>\n",
              "      <td>615</td>\n",
              "      <td>1</td>\n",
              "      <td>2.5</td>\n",
              "      <td>0</td>\n",
              "      <td>0</td>\n",
              "      <td>0</td>\n",
              "      <td>10</td>\n",
              "      <td>0.8</td>\n",
              "      <td>131</td>\n",
              "      <td>6</td>\n",
              "      <td>...</td>\n",
              "      <td>1216</td>\n",
              "      <td>1786</td>\n",
              "      <td>2769</td>\n",
              "      <td>16</td>\n",
              "      <td>8</td>\n",
              "      <td>11</td>\n",
              "      <td>1</td>\n",
              "      <td>0</td>\n",
              "      <td>0</td>\n",
              "      <td>2</td>\n",
              "    </tr>\n",
              "    <tr>\n",
              "      <th>4</th>\n",
              "      <td>1821</td>\n",
              "      <td>1</td>\n",
              "      <td>1.2</td>\n",
              "      <td>0</td>\n",
              "      <td>13</td>\n",
              "      <td>1</td>\n",
              "      <td>44</td>\n",
              "      <td>0.6</td>\n",
              "      <td>141</td>\n",
              "      <td>2</td>\n",
              "      <td>...</td>\n",
              "      <td>1208</td>\n",
              "      <td>1212</td>\n",
              "      <td>1411</td>\n",
              "      <td>8</td>\n",
              "      <td>2</td>\n",
              "      <td>15</td>\n",
              "      <td>1</td>\n",
              "      <td>1</td>\n",
              "      <td>0</td>\n",
              "      <td>1</td>\n",
              "    </tr>\n",
              "  </tbody>\n",
              "</table>\n",
              "<p>5 rows × 21 columns</p>\n",
              "</div>\n",
              "      <button class=\"colab-df-convert\" onclick=\"convertToInteractive('df-449c754c-2b47-4668-80e2-104dcde63b6c')\"\n",
              "              title=\"Convert this dataframe to an interactive table.\"\n",
              "              style=\"display:none;\">\n",
              "\n",
              "  <svg xmlns=\"http://www.w3.org/2000/svg\" height=\"24px\"viewBox=\"0 0 24 24\"\n",
              "       width=\"24px\">\n",
              "    <path d=\"M0 0h24v24H0V0z\" fill=\"none\"/>\n",
              "    <path d=\"M18.56 5.44l.94 2.06.94-2.06 2.06-.94-2.06-.94-.94-2.06-.94 2.06-2.06.94zm-11 1L8.5 8.5l.94-2.06 2.06-.94-2.06-.94L8.5 2.5l-.94 2.06-2.06.94zm10 10l.94 2.06.94-2.06 2.06-.94-2.06-.94-.94-2.06-.94 2.06-2.06.94z\"/><path d=\"M17.41 7.96l-1.37-1.37c-.4-.4-.92-.59-1.43-.59-.52 0-1.04.2-1.43.59L10.3 9.45l-7.72 7.72c-.78.78-.78 2.05 0 2.83L4 21.41c.39.39.9.59 1.41.59.51 0 1.02-.2 1.41-.59l7.78-7.78 2.81-2.81c.8-.78.8-2.07 0-2.86zM5.41 20L4 18.59l7.72-7.72 1.47 1.35L5.41 20z\"/>\n",
              "  </svg>\n",
              "      </button>\n",
              "\n",
              "\n",
              "\n",
              "    <div id=\"df-7cda8855-7e54-4fa0-81ce-ee8134294f4b\">\n",
              "      <button class=\"colab-df-quickchart\" onclick=\"quickchart('df-7cda8855-7e54-4fa0-81ce-ee8134294f4b')\"\n",
              "              title=\"Suggest charts.\"\n",
              "              style=\"display:none;\">\n",
              "\n",
              "<svg xmlns=\"http://www.w3.org/2000/svg\" height=\"24px\"viewBox=\"0 0 24 24\"\n",
              "     width=\"24px\">\n",
              "    <g>\n",
              "        <path d=\"M19 3H5c-1.1 0-2 .9-2 2v14c0 1.1.9 2 2 2h14c1.1 0 2-.9 2-2V5c0-1.1-.9-2-2-2zM9 17H7v-7h2v7zm4 0h-2V7h2v10zm4 0h-2v-4h2v4z\"/>\n",
              "    </g>\n",
              "</svg>\n",
              "      </button>\n",
              "    </div>\n",
              "\n",
              "<style>\n",
              "  .colab-df-quickchart {\n",
              "    background-color: #E8F0FE;\n",
              "    border: none;\n",
              "    border-radius: 50%;\n",
              "    cursor: pointer;\n",
              "    display: none;\n",
              "    fill: #1967D2;\n",
              "    height: 32px;\n",
              "    padding: 0 0 0 0;\n",
              "    width: 32px;\n",
              "  }\n",
              "\n",
              "  .colab-df-quickchart:hover {\n",
              "    background-color: #E2EBFA;\n",
              "    box-shadow: 0px 1px 2px rgba(60, 64, 67, 0.3), 0px 1px 3px 1px rgba(60, 64, 67, 0.15);\n",
              "    fill: #174EA6;\n",
              "  }\n",
              "\n",
              "  [theme=dark] .colab-df-quickchart {\n",
              "    background-color: #3B4455;\n",
              "    fill: #D2E3FC;\n",
              "  }\n",
              "\n",
              "  [theme=dark] .colab-df-quickchart:hover {\n",
              "    background-color: #434B5C;\n",
              "    box-shadow: 0px 1px 3px 1px rgba(0, 0, 0, 0.15);\n",
              "    filter: drop-shadow(0px 1px 2px rgba(0, 0, 0, 0.3));\n",
              "    fill: #FFFFFF;\n",
              "  }\n",
              "</style>\n",
              "\n",
              "    <script>\n",
              "      async function quickchart(key) {\n",
              "        const containerElement = document.querySelector('#' + key);\n",
              "        const charts = await google.colab.kernel.invokeFunction(\n",
              "            'suggestCharts', [key], {});\n",
              "      }\n",
              "    </script>\n",
              "\n",
              "      <script>\n",
              "\n",
              "function displayQuickchartButton(domScope) {\n",
              "  let quickchartButtonEl =\n",
              "    domScope.querySelector('#df-7cda8855-7e54-4fa0-81ce-ee8134294f4b button.colab-df-quickchart');\n",
              "  quickchartButtonEl.style.display =\n",
              "    google.colab.kernel.accessAllowed ? 'block' : 'none';\n",
              "}\n",
              "\n",
              "        displayQuickchartButton(document);\n",
              "      </script>\n",
              "      <style>\n",
              "    .colab-df-container {\n",
              "      display:flex;\n",
              "      flex-wrap:wrap;\n",
              "      gap: 12px;\n",
              "    }\n",
              "\n",
              "    .colab-df-convert {\n",
              "      background-color: #E8F0FE;\n",
              "      border: none;\n",
              "      border-radius: 50%;\n",
              "      cursor: pointer;\n",
              "      display: none;\n",
              "      fill: #1967D2;\n",
              "      height: 32px;\n",
              "      padding: 0 0 0 0;\n",
              "      width: 32px;\n",
              "    }\n",
              "\n",
              "    .colab-df-convert:hover {\n",
              "      background-color: #E2EBFA;\n",
              "      box-shadow: 0px 1px 2px rgba(60, 64, 67, 0.3), 0px 1px 3px 1px rgba(60, 64, 67, 0.15);\n",
              "      fill: #174EA6;\n",
              "    }\n",
              "\n",
              "    [theme=dark] .colab-df-convert {\n",
              "      background-color: #3B4455;\n",
              "      fill: #D2E3FC;\n",
              "    }\n",
              "\n",
              "    [theme=dark] .colab-df-convert:hover {\n",
              "      background-color: #434B5C;\n",
              "      box-shadow: 0px 1px 3px 1px rgba(0, 0, 0, 0.15);\n",
              "      filter: drop-shadow(0px 1px 2px rgba(0, 0, 0, 0.3));\n",
              "      fill: #FFFFFF;\n",
              "    }\n",
              "  </style>\n",
              "\n",
              "      <script>\n",
              "        const buttonEl =\n",
              "          document.querySelector('#df-449c754c-2b47-4668-80e2-104dcde63b6c button.colab-df-convert');\n",
              "        buttonEl.style.display =\n",
              "          google.colab.kernel.accessAllowed ? 'block' : 'none';\n",
              "\n",
              "        async function convertToInteractive(key) {\n",
              "          const element = document.querySelector('#df-449c754c-2b47-4668-80e2-104dcde63b6c');\n",
              "          const dataTable =\n",
              "            await google.colab.kernel.invokeFunction('convertToInteractive',\n",
              "                                                     [key], {});\n",
              "          if (!dataTable) return;\n",
              "\n",
              "          const docLinkHtml = 'Like what you see? Visit the ' +\n",
              "            '<a target=\"_blank\" href=https://colab.research.google.com/notebooks/data_table.ipynb>data table notebook</a>'\n",
              "            + ' to learn more about interactive tables.';\n",
              "          element.innerHTML = '';\n",
              "          dataTable['output_type'] = 'display_data';\n",
              "          await google.colab.output.renderOutput(dataTable, element);\n",
              "          const docLink = document.createElement('div');\n",
              "          docLink.innerHTML = docLinkHtml;\n",
              "          element.appendChild(docLink);\n",
              "        }\n",
              "      </script>\n",
              "    </div>\n",
              "  </div>\n"
            ]
          },
          "metadata": {},
          "execution_count": 4
        }
      ],
      "source": [
        "#Let's see first five rows of the data\n",
        "df.head()"
      ]
    },
    {
      "cell_type": "code",
      "execution_count": null,
      "metadata": {
        "colab": {
          "base_uri": "https://localhost:8080/",
          "height": 299
        },
        "id": "hRI9exfK9L-8",
        "outputId": "dcdccc12-37a7-4800-94ee-2dd96b36dd72"
      },
      "outputs": [
        {
          "output_type": "execute_result",
          "data": {
            "text/plain": [
              "      battery_power  blue  clock_speed  dual_sim  fc  four_g  int_memory  \\\n",
              "1995            794     1          0.5         1   0       1           2   \n",
              "1996           1965     1          2.6         1   0       0          39   \n",
              "1997           1911     0          0.9         1   1       1          36   \n",
              "1998           1512     0          0.9         0   4       1          46   \n",
              "1999            510     1          2.0         1   5       1          45   \n",
              "\n",
              "      m_dep  mobile_wt  n_cores  ...  px_height  px_width   ram  sc_h  sc_w  \\\n",
              "1995    0.8        106        6  ...       1222      1890   668    13     4   \n",
              "1996    0.2        187        4  ...        915      1965  2032    11    10   \n",
              "1997    0.7        108        8  ...        868      1632  3057     9     1   \n",
              "1998    0.1        145        5  ...        336       670   869    18    10   \n",
              "1999    0.9        168        6  ...        483       754  3919    19     4   \n",
              "\n",
              "      talk_time  three_g  touch_screen  wifi  price_range  \n",
              "1995         19        1             1     0            0  \n",
              "1996         16        1             1     1            2  \n",
              "1997          5        1             1     0            3  \n",
              "1998         19        1             1     1            0  \n",
              "1999          2        1             1     1            3  \n",
              "\n",
              "[5 rows x 21 columns]"
            ],
            "text/html": [
              "\n",
              "\n",
              "  <div id=\"df-441eac13-afe2-45b5-9573-847b45b33e9e\">\n",
              "    <div class=\"colab-df-container\">\n",
              "      <div>\n",
              "<style scoped>\n",
              "    .dataframe tbody tr th:only-of-type {\n",
              "        vertical-align: middle;\n",
              "    }\n",
              "\n",
              "    .dataframe tbody tr th {\n",
              "        vertical-align: top;\n",
              "    }\n",
              "\n",
              "    .dataframe thead th {\n",
              "        text-align: right;\n",
              "    }\n",
              "</style>\n",
              "<table border=\"1\" class=\"dataframe\">\n",
              "  <thead>\n",
              "    <tr style=\"text-align: right;\">\n",
              "      <th></th>\n",
              "      <th>battery_power</th>\n",
              "      <th>blue</th>\n",
              "      <th>clock_speed</th>\n",
              "      <th>dual_sim</th>\n",
              "      <th>fc</th>\n",
              "      <th>four_g</th>\n",
              "      <th>int_memory</th>\n",
              "      <th>m_dep</th>\n",
              "      <th>mobile_wt</th>\n",
              "      <th>n_cores</th>\n",
              "      <th>...</th>\n",
              "      <th>px_height</th>\n",
              "      <th>px_width</th>\n",
              "      <th>ram</th>\n",
              "      <th>sc_h</th>\n",
              "      <th>sc_w</th>\n",
              "      <th>talk_time</th>\n",
              "      <th>three_g</th>\n",
              "      <th>touch_screen</th>\n",
              "      <th>wifi</th>\n",
              "      <th>price_range</th>\n",
              "    </tr>\n",
              "  </thead>\n",
              "  <tbody>\n",
              "    <tr>\n",
              "      <th>1995</th>\n",
              "      <td>794</td>\n",
              "      <td>1</td>\n",
              "      <td>0.5</td>\n",
              "      <td>1</td>\n",
              "      <td>0</td>\n",
              "      <td>1</td>\n",
              "      <td>2</td>\n",
              "      <td>0.8</td>\n",
              "      <td>106</td>\n",
              "      <td>6</td>\n",
              "      <td>...</td>\n",
              "      <td>1222</td>\n",
              "      <td>1890</td>\n",
              "      <td>668</td>\n",
              "      <td>13</td>\n",
              "      <td>4</td>\n",
              "      <td>19</td>\n",
              "      <td>1</td>\n",
              "      <td>1</td>\n",
              "      <td>0</td>\n",
              "      <td>0</td>\n",
              "    </tr>\n",
              "    <tr>\n",
              "      <th>1996</th>\n",
              "      <td>1965</td>\n",
              "      <td>1</td>\n",
              "      <td>2.6</td>\n",
              "      <td>1</td>\n",
              "      <td>0</td>\n",
              "      <td>0</td>\n",
              "      <td>39</td>\n",
              "      <td>0.2</td>\n",
              "      <td>187</td>\n",
              "      <td>4</td>\n",
              "      <td>...</td>\n",
              "      <td>915</td>\n",
              "      <td>1965</td>\n",
              "      <td>2032</td>\n",
              "      <td>11</td>\n",
              "      <td>10</td>\n",
              "      <td>16</td>\n",
              "      <td>1</td>\n",
              "      <td>1</td>\n",
              "      <td>1</td>\n",
              "      <td>2</td>\n",
              "    </tr>\n",
              "    <tr>\n",
              "      <th>1997</th>\n",
              "      <td>1911</td>\n",
              "      <td>0</td>\n",
              "      <td>0.9</td>\n",
              "      <td>1</td>\n",
              "      <td>1</td>\n",
              "      <td>1</td>\n",
              "      <td>36</td>\n",
              "      <td>0.7</td>\n",
              "      <td>108</td>\n",
              "      <td>8</td>\n",
              "      <td>...</td>\n",
              "      <td>868</td>\n",
              "      <td>1632</td>\n",
              "      <td>3057</td>\n",
              "      <td>9</td>\n",
              "      <td>1</td>\n",
              "      <td>5</td>\n",
              "      <td>1</td>\n",
              "      <td>1</td>\n",
              "      <td>0</td>\n",
              "      <td>3</td>\n",
              "    </tr>\n",
              "    <tr>\n",
              "      <th>1998</th>\n",
              "      <td>1512</td>\n",
              "      <td>0</td>\n",
              "      <td>0.9</td>\n",
              "      <td>0</td>\n",
              "      <td>4</td>\n",
              "      <td>1</td>\n",
              "      <td>46</td>\n",
              "      <td>0.1</td>\n",
              "      <td>145</td>\n",
              "      <td>5</td>\n",
              "      <td>...</td>\n",
              "      <td>336</td>\n",
              "      <td>670</td>\n",
              "      <td>869</td>\n",
              "      <td>18</td>\n",
              "      <td>10</td>\n",
              "      <td>19</td>\n",
              "      <td>1</td>\n",
              "      <td>1</td>\n",
              "      <td>1</td>\n",
              "      <td>0</td>\n",
              "    </tr>\n",
              "    <tr>\n",
              "      <th>1999</th>\n",
              "      <td>510</td>\n",
              "      <td>1</td>\n",
              "      <td>2.0</td>\n",
              "      <td>1</td>\n",
              "      <td>5</td>\n",
              "      <td>1</td>\n",
              "      <td>45</td>\n",
              "      <td>0.9</td>\n",
              "      <td>168</td>\n",
              "      <td>6</td>\n",
              "      <td>...</td>\n",
              "      <td>483</td>\n",
              "      <td>754</td>\n",
              "      <td>3919</td>\n",
              "      <td>19</td>\n",
              "      <td>4</td>\n",
              "      <td>2</td>\n",
              "      <td>1</td>\n",
              "      <td>1</td>\n",
              "      <td>1</td>\n",
              "      <td>3</td>\n",
              "    </tr>\n",
              "  </tbody>\n",
              "</table>\n",
              "<p>5 rows × 21 columns</p>\n",
              "</div>\n",
              "      <button class=\"colab-df-convert\" onclick=\"convertToInteractive('df-441eac13-afe2-45b5-9573-847b45b33e9e')\"\n",
              "              title=\"Convert this dataframe to an interactive table.\"\n",
              "              style=\"display:none;\">\n",
              "\n",
              "  <svg xmlns=\"http://www.w3.org/2000/svg\" height=\"24px\"viewBox=\"0 0 24 24\"\n",
              "       width=\"24px\">\n",
              "    <path d=\"M0 0h24v24H0V0z\" fill=\"none\"/>\n",
              "    <path d=\"M18.56 5.44l.94 2.06.94-2.06 2.06-.94-2.06-.94-.94-2.06-.94 2.06-2.06.94zm-11 1L8.5 8.5l.94-2.06 2.06-.94-2.06-.94L8.5 2.5l-.94 2.06-2.06.94zm10 10l.94 2.06.94-2.06 2.06-.94-2.06-.94-.94-2.06-.94 2.06-2.06.94z\"/><path d=\"M17.41 7.96l-1.37-1.37c-.4-.4-.92-.59-1.43-.59-.52 0-1.04.2-1.43.59L10.3 9.45l-7.72 7.72c-.78.78-.78 2.05 0 2.83L4 21.41c.39.39.9.59 1.41.59.51 0 1.02-.2 1.41-.59l7.78-7.78 2.81-2.81c.8-.78.8-2.07 0-2.86zM5.41 20L4 18.59l7.72-7.72 1.47 1.35L5.41 20z\"/>\n",
              "  </svg>\n",
              "      </button>\n",
              "\n",
              "\n",
              "\n",
              "    <div id=\"df-fee55159-426c-4273-80d4-323aa3699d5e\">\n",
              "      <button class=\"colab-df-quickchart\" onclick=\"quickchart('df-fee55159-426c-4273-80d4-323aa3699d5e')\"\n",
              "              title=\"Suggest charts.\"\n",
              "              style=\"display:none;\">\n",
              "\n",
              "<svg xmlns=\"http://www.w3.org/2000/svg\" height=\"24px\"viewBox=\"0 0 24 24\"\n",
              "     width=\"24px\">\n",
              "    <g>\n",
              "        <path d=\"M19 3H5c-1.1 0-2 .9-2 2v14c0 1.1.9 2 2 2h14c1.1 0 2-.9 2-2V5c0-1.1-.9-2-2-2zM9 17H7v-7h2v7zm4 0h-2V7h2v10zm4 0h-2v-4h2v4z\"/>\n",
              "    </g>\n",
              "</svg>\n",
              "      </button>\n",
              "    </div>\n",
              "\n",
              "<style>\n",
              "  .colab-df-quickchart {\n",
              "    background-color: #E8F0FE;\n",
              "    border: none;\n",
              "    border-radius: 50%;\n",
              "    cursor: pointer;\n",
              "    display: none;\n",
              "    fill: #1967D2;\n",
              "    height: 32px;\n",
              "    padding: 0 0 0 0;\n",
              "    width: 32px;\n",
              "  }\n",
              "\n",
              "  .colab-df-quickchart:hover {\n",
              "    background-color: #E2EBFA;\n",
              "    box-shadow: 0px 1px 2px rgba(60, 64, 67, 0.3), 0px 1px 3px 1px rgba(60, 64, 67, 0.15);\n",
              "    fill: #174EA6;\n",
              "  }\n",
              "\n",
              "  [theme=dark] .colab-df-quickchart {\n",
              "    background-color: #3B4455;\n",
              "    fill: #D2E3FC;\n",
              "  }\n",
              "\n",
              "  [theme=dark] .colab-df-quickchart:hover {\n",
              "    background-color: #434B5C;\n",
              "    box-shadow: 0px 1px 3px 1px rgba(0, 0, 0, 0.15);\n",
              "    filter: drop-shadow(0px 1px 2px rgba(0, 0, 0, 0.3));\n",
              "    fill: #FFFFFF;\n",
              "  }\n",
              "</style>\n",
              "\n",
              "    <script>\n",
              "      async function quickchart(key) {\n",
              "        const containerElement = document.querySelector('#' + key);\n",
              "        const charts = await google.colab.kernel.invokeFunction(\n",
              "            'suggestCharts', [key], {});\n",
              "      }\n",
              "    </script>\n",
              "\n",
              "      <script>\n",
              "\n",
              "function displayQuickchartButton(domScope) {\n",
              "  let quickchartButtonEl =\n",
              "    domScope.querySelector('#df-fee55159-426c-4273-80d4-323aa3699d5e button.colab-df-quickchart');\n",
              "  quickchartButtonEl.style.display =\n",
              "    google.colab.kernel.accessAllowed ? 'block' : 'none';\n",
              "}\n",
              "\n",
              "        displayQuickchartButton(document);\n",
              "      </script>\n",
              "      <style>\n",
              "    .colab-df-container {\n",
              "      display:flex;\n",
              "      flex-wrap:wrap;\n",
              "      gap: 12px;\n",
              "    }\n",
              "\n",
              "    .colab-df-convert {\n",
              "      background-color: #E8F0FE;\n",
              "      border: none;\n",
              "      border-radius: 50%;\n",
              "      cursor: pointer;\n",
              "      display: none;\n",
              "      fill: #1967D2;\n",
              "      height: 32px;\n",
              "      padding: 0 0 0 0;\n",
              "      width: 32px;\n",
              "    }\n",
              "\n",
              "    .colab-df-convert:hover {\n",
              "      background-color: #E2EBFA;\n",
              "      box-shadow: 0px 1px 2px rgba(60, 64, 67, 0.3), 0px 1px 3px 1px rgba(60, 64, 67, 0.15);\n",
              "      fill: #174EA6;\n",
              "    }\n",
              "\n",
              "    [theme=dark] .colab-df-convert {\n",
              "      background-color: #3B4455;\n",
              "      fill: #D2E3FC;\n",
              "    }\n",
              "\n",
              "    [theme=dark] .colab-df-convert:hover {\n",
              "      background-color: #434B5C;\n",
              "      box-shadow: 0px 1px 3px 1px rgba(0, 0, 0, 0.15);\n",
              "      filter: drop-shadow(0px 1px 2px rgba(0, 0, 0, 0.3));\n",
              "      fill: #FFFFFF;\n",
              "    }\n",
              "  </style>\n",
              "\n",
              "      <script>\n",
              "        const buttonEl =\n",
              "          document.querySelector('#df-441eac13-afe2-45b5-9573-847b45b33e9e button.colab-df-convert');\n",
              "        buttonEl.style.display =\n",
              "          google.colab.kernel.accessAllowed ? 'block' : 'none';\n",
              "\n",
              "        async function convertToInteractive(key) {\n",
              "          const element = document.querySelector('#df-441eac13-afe2-45b5-9573-847b45b33e9e');\n",
              "          const dataTable =\n",
              "            await google.colab.kernel.invokeFunction('convertToInteractive',\n",
              "                                                     [key], {});\n",
              "          if (!dataTable) return;\n",
              "\n",
              "          const docLinkHtml = 'Like what you see? Visit the ' +\n",
              "            '<a target=\"_blank\" href=https://colab.research.google.com/notebooks/data_table.ipynb>data table notebook</a>'\n",
              "            + ' to learn more about interactive tables.';\n",
              "          element.innerHTML = '';\n",
              "          dataTable['output_type'] = 'display_data';\n",
              "          await google.colab.output.renderOutput(dataTable, element);\n",
              "          const docLink = document.createElement('div');\n",
              "          docLink.innerHTML = docLinkHtml;\n",
              "          element.appendChild(docLink);\n",
              "        }\n",
              "      </script>\n",
              "    </div>\n",
              "  </div>\n"
            ]
          },
          "metadata": {},
          "execution_count": 5
        }
      ],
      "source": [
        "# Last five rows of the data\n",
        "df.tail()"
      ]
    },
    {
      "cell_type": "code",
      "source": [
        "#Check shape of the data\n",
        "df.shape"
      ],
      "metadata": {
        "colab": {
          "base_uri": "https://localhost:8080/"
        },
        "id": "en_arHe66xNJ",
        "outputId": "82423fda-8fb1-4c2a-9dd7-c302d61eec1a"
      },
      "execution_count": null,
      "outputs": [
        {
          "output_type": "execute_result",
          "data": {
            "text/plain": [
              "(2000, 21)"
            ]
          },
          "metadata": {},
          "execution_count": 6
        }
      ]
    },
    {
      "cell_type": "code",
      "execution_count": null,
      "metadata": {
        "colab": {
          "base_uri": "https://localhost:8080/"
        },
        "id": "69Zlru9i9Q_N",
        "outputId": "473b8765-04d2-418e-f11b-34a02b5e8824"
      },
      "outputs": [
        {
          "output_type": "stream",
          "name": "stdout",
          "text": [
            "<class 'pandas.core.frame.DataFrame'>\n",
            "RangeIndex: 2000 entries, 0 to 1999\n",
            "Data columns (total 21 columns):\n",
            " #   Column         Non-Null Count  Dtype  \n",
            "---  ------         --------------  -----  \n",
            " 0   battery_power  2000 non-null   int64  \n",
            " 1   blue           2000 non-null   int64  \n",
            " 2   clock_speed    2000 non-null   float64\n",
            " 3   dual_sim       2000 non-null   int64  \n",
            " 4   fc             2000 non-null   int64  \n",
            " 5   four_g         2000 non-null   int64  \n",
            " 6   int_memory     2000 non-null   int64  \n",
            " 7   m_dep          2000 non-null   float64\n",
            " 8   mobile_wt      2000 non-null   int64  \n",
            " 9   n_cores        2000 non-null   int64  \n",
            " 10  pc             2000 non-null   int64  \n",
            " 11  px_height      2000 non-null   int64  \n",
            " 12  px_width       2000 non-null   int64  \n",
            " 13  ram            2000 non-null   int64  \n",
            " 14  sc_h           2000 non-null   int64  \n",
            " 15  sc_w           2000 non-null   int64  \n",
            " 16  talk_time      2000 non-null   int64  \n",
            " 17  three_g        2000 non-null   int64  \n",
            " 18  touch_screen   2000 non-null   int64  \n",
            " 19  wifi           2000 non-null   int64  \n",
            " 20  price_range    2000 non-null   int64  \n",
            "dtypes: float64(2), int64(19)\n",
            "memory usage: 328.2 KB\n"
          ]
        }
      ],
      "source": [
        "#Let's check information of the dataset to know null values and data type\n",
        "df.info()"
      ]
    },
    {
      "cell_type": "markdown",
      "source": [
        "# ***EDA(Exploratory Data Analysis)***"
      ],
      "metadata": {
        "id": "kY8BfVl-7Y-u"
      }
    },
    {
      "cell_type": "code",
      "execution_count": null,
      "metadata": {
        "colab": {
          "base_uri": "https://localhost:8080/",
          "height": 393
        },
        "id": "VWWljtyr_THV",
        "outputId": "cd013f1c-c7f0-43d4-8c19-89b266b35d0a"
      },
      "outputs": [
        {
          "output_type": "execute_result",
          "data": {
            "text/plain": [
              "       battery_power       blue  clock_speed     dual_sim           fc  \\\n",
              "count    2000.000000  2000.0000  2000.000000  2000.000000  2000.000000   \n",
              "mean     1238.518500     0.4950     1.522250     0.509500     4.309500   \n",
              "std       439.418206     0.5001     0.816004     0.500035     4.341444   \n",
              "min       501.000000     0.0000     0.500000     0.000000     0.000000   \n",
              "25%       851.750000     0.0000     0.700000     0.000000     1.000000   \n",
              "50%      1226.000000     0.0000     1.500000     1.000000     3.000000   \n",
              "75%      1615.250000     1.0000     2.200000     1.000000     7.000000   \n",
              "max      1998.000000     1.0000     3.000000     1.000000    19.000000   \n",
              "\n",
              "            four_g   int_memory        m_dep    mobile_wt      n_cores  ...  \\\n",
              "count  2000.000000  2000.000000  2000.000000  2000.000000  2000.000000  ...   \n",
              "mean      0.521500    32.046500     0.501750   140.249000     4.520500  ...   \n",
              "std       0.499662    18.145715     0.288416    35.399655     2.287837  ...   \n",
              "min       0.000000     2.000000     0.100000    80.000000     1.000000  ...   \n",
              "25%       0.000000    16.000000     0.200000   109.000000     3.000000  ...   \n",
              "50%       1.000000    32.000000     0.500000   141.000000     4.000000  ...   \n",
              "75%       1.000000    48.000000     0.800000   170.000000     7.000000  ...   \n",
              "max       1.000000    64.000000     1.000000   200.000000     8.000000  ...   \n",
              "\n",
              "         px_height     px_width          ram         sc_h         sc_w  \\\n",
              "count  2000.000000  2000.000000  2000.000000  2000.000000  2000.000000   \n",
              "mean    645.108000  1251.515500  2124.213000    12.306500     5.767000   \n",
              "std     443.780811   432.199447  1084.732044     4.213245     4.356398   \n",
              "min       0.000000   500.000000   256.000000     5.000000     0.000000   \n",
              "25%     282.750000   874.750000  1207.500000     9.000000     2.000000   \n",
              "50%     564.000000  1247.000000  2146.500000    12.000000     5.000000   \n",
              "75%     947.250000  1633.000000  3064.500000    16.000000     9.000000   \n",
              "max    1960.000000  1998.000000  3998.000000    19.000000    18.000000   \n",
              "\n",
              "         talk_time      three_g  touch_screen         wifi  price_range  \n",
              "count  2000.000000  2000.000000   2000.000000  2000.000000  2000.000000  \n",
              "mean     11.011000     0.761500      0.503000     0.507000     1.500000  \n",
              "std       5.463955     0.426273      0.500116     0.500076     1.118314  \n",
              "min       2.000000     0.000000      0.000000     0.000000     0.000000  \n",
              "25%       6.000000     1.000000      0.000000     0.000000     0.750000  \n",
              "50%      11.000000     1.000000      1.000000     1.000000     1.500000  \n",
              "75%      16.000000     1.000000      1.000000     1.000000     2.250000  \n",
              "max      20.000000     1.000000      1.000000     1.000000     3.000000  \n",
              "\n",
              "[8 rows x 21 columns]"
            ],
            "text/html": [
              "\n",
              "\n",
              "  <div id=\"df-50041985-49f4-4c68-811d-8e9a8f417ba1\">\n",
              "    <div class=\"colab-df-container\">\n",
              "      <div>\n",
              "<style scoped>\n",
              "    .dataframe tbody tr th:only-of-type {\n",
              "        vertical-align: middle;\n",
              "    }\n",
              "\n",
              "    .dataframe tbody tr th {\n",
              "        vertical-align: top;\n",
              "    }\n",
              "\n",
              "    .dataframe thead th {\n",
              "        text-align: right;\n",
              "    }\n",
              "</style>\n",
              "<table border=\"1\" class=\"dataframe\">\n",
              "  <thead>\n",
              "    <tr style=\"text-align: right;\">\n",
              "      <th></th>\n",
              "      <th>battery_power</th>\n",
              "      <th>blue</th>\n",
              "      <th>clock_speed</th>\n",
              "      <th>dual_sim</th>\n",
              "      <th>fc</th>\n",
              "      <th>four_g</th>\n",
              "      <th>int_memory</th>\n",
              "      <th>m_dep</th>\n",
              "      <th>mobile_wt</th>\n",
              "      <th>n_cores</th>\n",
              "      <th>...</th>\n",
              "      <th>px_height</th>\n",
              "      <th>px_width</th>\n",
              "      <th>ram</th>\n",
              "      <th>sc_h</th>\n",
              "      <th>sc_w</th>\n",
              "      <th>talk_time</th>\n",
              "      <th>three_g</th>\n",
              "      <th>touch_screen</th>\n",
              "      <th>wifi</th>\n",
              "      <th>price_range</th>\n",
              "    </tr>\n",
              "  </thead>\n",
              "  <tbody>\n",
              "    <tr>\n",
              "      <th>count</th>\n",
              "      <td>2000.000000</td>\n",
              "      <td>2000.0000</td>\n",
              "      <td>2000.000000</td>\n",
              "      <td>2000.000000</td>\n",
              "      <td>2000.000000</td>\n",
              "      <td>2000.000000</td>\n",
              "      <td>2000.000000</td>\n",
              "      <td>2000.000000</td>\n",
              "      <td>2000.000000</td>\n",
              "      <td>2000.000000</td>\n",
              "      <td>...</td>\n",
              "      <td>2000.000000</td>\n",
              "      <td>2000.000000</td>\n",
              "      <td>2000.000000</td>\n",
              "      <td>2000.000000</td>\n",
              "      <td>2000.000000</td>\n",
              "      <td>2000.000000</td>\n",
              "      <td>2000.000000</td>\n",
              "      <td>2000.000000</td>\n",
              "      <td>2000.000000</td>\n",
              "      <td>2000.000000</td>\n",
              "    </tr>\n",
              "    <tr>\n",
              "      <th>mean</th>\n",
              "      <td>1238.518500</td>\n",
              "      <td>0.4950</td>\n",
              "      <td>1.522250</td>\n",
              "      <td>0.509500</td>\n",
              "      <td>4.309500</td>\n",
              "      <td>0.521500</td>\n",
              "      <td>32.046500</td>\n",
              "      <td>0.501750</td>\n",
              "      <td>140.249000</td>\n",
              "      <td>4.520500</td>\n",
              "      <td>...</td>\n",
              "      <td>645.108000</td>\n",
              "      <td>1251.515500</td>\n",
              "      <td>2124.213000</td>\n",
              "      <td>12.306500</td>\n",
              "      <td>5.767000</td>\n",
              "      <td>11.011000</td>\n",
              "      <td>0.761500</td>\n",
              "      <td>0.503000</td>\n",
              "      <td>0.507000</td>\n",
              "      <td>1.500000</td>\n",
              "    </tr>\n",
              "    <tr>\n",
              "      <th>std</th>\n",
              "      <td>439.418206</td>\n",
              "      <td>0.5001</td>\n",
              "      <td>0.816004</td>\n",
              "      <td>0.500035</td>\n",
              "      <td>4.341444</td>\n",
              "      <td>0.499662</td>\n",
              "      <td>18.145715</td>\n",
              "      <td>0.288416</td>\n",
              "      <td>35.399655</td>\n",
              "      <td>2.287837</td>\n",
              "      <td>...</td>\n",
              "      <td>443.780811</td>\n",
              "      <td>432.199447</td>\n",
              "      <td>1084.732044</td>\n",
              "      <td>4.213245</td>\n",
              "      <td>4.356398</td>\n",
              "      <td>5.463955</td>\n",
              "      <td>0.426273</td>\n",
              "      <td>0.500116</td>\n",
              "      <td>0.500076</td>\n",
              "      <td>1.118314</td>\n",
              "    </tr>\n",
              "    <tr>\n",
              "      <th>min</th>\n",
              "      <td>501.000000</td>\n",
              "      <td>0.0000</td>\n",
              "      <td>0.500000</td>\n",
              "      <td>0.000000</td>\n",
              "      <td>0.000000</td>\n",
              "      <td>0.000000</td>\n",
              "      <td>2.000000</td>\n",
              "      <td>0.100000</td>\n",
              "      <td>80.000000</td>\n",
              "      <td>1.000000</td>\n",
              "      <td>...</td>\n",
              "      <td>0.000000</td>\n",
              "      <td>500.000000</td>\n",
              "      <td>256.000000</td>\n",
              "      <td>5.000000</td>\n",
              "      <td>0.000000</td>\n",
              "      <td>2.000000</td>\n",
              "      <td>0.000000</td>\n",
              "      <td>0.000000</td>\n",
              "      <td>0.000000</td>\n",
              "      <td>0.000000</td>\n",
              "    </tr>\n",
              "    <tr>\n",
              "      <th>25%</th>\n",
              "      <td>851.750000</td>\n",
              "      <td>0.0000</td>\n",
              "      <td>0.700000</td>\n",
              "      <td>0.000000</td>\n",
              "      <td>1.000000</td>\n",
              "      <td>0.000000</td>\n",
              "      <td>16.000000</td>\n",
              "      <td>0.200000</td>\n",
              "      <td>109.000000</td>\n",
              "      <td>3.000000</td>\n",
              "      <td>...</td>\n",
              "      <td>282.750000</td>\n",
              "      <td>874.750000</td>\n",
              "      <td>1207.500000</td>\n",
              "      <td>9.000000</td>\n",
              "      <td>2.000000</td>\n",
              "      <td>6.000000</td>\n",
              "      <td>1.000000</td>\n",
              "      <td>0.000000</td>\n",
              "      <td>0.000000</td>\n",
              "      <td>0.750000</td>\n",
              "    </tr>\n",
              "    <tr>\n",
              "      <th>50%</th>\n",
              "      <td>1226.000000</td>\n",
              "      <td>0.0000</td>\n",
              "      <td>1.500000</td>\n",
              "      <td>1.000000</td>\n",
              "      <td>3.000000</td>\n",
              "      <td>1.000000</td>\n",
              "      <td>32.000000</td>\n",
              "      <td>0.500000</td>\n",
              "      <td>141.000000</td>\n",
              "      <td>4.000000</td>\n",
              "      <td>...</td>\n",
              "      <td>564.000000</td>\n",
              "      <td>1247.000000</td>\n",
              "      <td>2146.500000</td>\n",
              "      <td>12.000000</td>\n",
              "      <td>5.000000</td>\n",
              "      <td>11.000000</td>\n",
              "      <td>1.000000</td>\n",
              "      <td>1.000000</td>\n",
              "      <td>1.000000</td>\n",
              "      <td>1.500000</td>\n",
              "    </tr>\n",
              "    <tr>\n",
              "      <th>75%</th>\n",
              "      <td>1615.250000</td>\n",
              "      <td>1.0000</td>\n",
              "      <td>2.200000</td>\n",
              "      <td>1.000000</td>\n",
              "      <td>7.000000</td>\n",
              "      <td>1.000000</td>\n",
              "      <td>48.000000</td>\n",
              "      <td>0.800000</td>\n",
              "      <td>170.000000</td>\n",
              "      <td>7.000000</td>\n",
              "      <td>...</td>\n",
              "      <td>947.250000</td>\n",
              "      <td>1633.000000</td>\n",
              "      <td>3064.500000</td>\n",
              "      <td>16.000000</td>\n",
              "      <td>9.000000</td>\n",
              "      <td>16.000000</td>\n",
              "      <td>1.000000</td>\n",
              "      <td>1.000000</td>\n",
              "      <td>1.000000</td>\n",
              "      <td>2.250000</td>\n",
              "    </tr>\n",
              "    <tr>\n",
              "      <th>max</th>\n",
              "      <td>1998.000000</td>\n",
              "      <td>1.0000</td>\n",
              "      <td>3.000000</td>\n",
              "      <td>1.000000</td>\n",
              "      <td>19.000000</td>\n",
              "      <td>1.000000</td>\n",
              "      <td>64.000000</td>\n",
              "      <td>1.000000</td>\n",
              "      <td>200.000000</td>\n",
              "      <td>8.000000</td>\n",
              "      <td>...</td>\n",
              "      <td>1960.000000</td>\n",
              "      <td>1998.000000</td>\n",
              "      <td>3998.000000</td>\n",
              "      <td>19.000000</td>\n",
              "      <td>18.000000</td>\n",
              "      <td>20.000000</td>\n",
              "      <td>1.000000</td>\n",
              "      <td>1.000000</td>\n",
              "      <td>1.000000</td>\n",
              "      <td>3.000000</td>\n",
              "    </tr>\n",
              "  </tbody>\n",
              "</table>\n",
              "<p>8 rows × 21 columns</p>\n",
              "</div>\n",
              "      <button class=\"colab-df-convert\" onclick=\"convertToInteractive('df-50041985-49f4-4c68-811d-8e9a8f417ba1')\"\n",
              "              title=\"Convert this dataframe to an interactive table.\"\n",
              "              style=\"display:none;\">\n",
              "\n",
              "  <svg xmlns=\"http://www.w3.org/2000/svg\" height=\"24px\"viewBox=\"0 0 24 24\"\n",
              "       width=\"24px\">\n",
              "    <path d=\"M0 0h24v24H0V0z\" fill=\"none\"/>\n",
              "    <path d=\"M18.56 5.44l.94 2.06.94-2.06 2.06-.94-2.06-.94-.94-2.06-.94 2.06-2.06.94zm-11 1L8.5 8.5l.94-2.06 2.06-.94-2.06-.94L8.5 2.5l-.94 2.06-2.06.94zm10 10l.94 2.06.94-2.06 2.06-.94-2.06-.94-.94-2.06-.94 2.06-2.06.94z\"/><path d=\"M17.41 7.96l-1.37-1.37c-.4-.4-.92-.59-1.43-.59-.52 0-1.04.2-1.43.59L10.3 9.45l-7.72 7.72c-.78.78-.78 2.05 0 2.83L4 21.41c.39.39.9.59 1.41.59.51 0 1.02-.2 1.41-.59l7.78-7.78 2.81-2.81c.8-.78.8-2.07 0-2.86zM5.41 20L4 18.59l7.72-7.72 1.47 1.35L5.41 20z\"/>\n",
              "  </svg>\n",
              "      </button>\n",
              "\n",
              "\n",
              "\n",
              "    <div id=\"df-38eef797-67b6-432e-b104-0b1074d59484\">\n",
              "      <button class=\"colab-df-quickchart\" onclick=\"quickchart('df-38eef797-67b6-432e-b104-0b1074d59484')\"\n",
              "              title=\"Suggest charts.\"\n",
              "              style=\"display:none;\">\n",
              "\n",
              "<svg xmlns=\"http://www.w3.org/2000/svg\" height=\"24px\"viewBox=\"0 0 24 24\"\n",
              "     width=\"24px\">\n",
              "    <g>\n",
              "        <path d=\"M19 3H5c-1.1 0-2 .9-2 2v14c0 1.1.9 2 2 2h14c1.1 0 2-.9 2-2V5c0-1.1-.9-2-2-2zM9 17H7v-7h2v7zm4 0h-2V7h2v10zm4 0h-2v-4h2v4z\"/>\n",
              "    </g>\n",
              "</svg>\n",
              "      </button>\n",
              "    </div>\n",
              "\n",
              "<style>\n",
              "  .colab-df-quickchart {\n",
              "    background-color: #E8F0FE;\n",
              "    border: none;\n",
              "    border-radius: 50%;\n",
              "    cursor: pointer;\n",
              "    display: none;\n",
              "    fill: #1967D2;\n",
              "    height: 32px;\n",
              "    padding: 0 0 0 0;\n",
              "    width: 32px;\n",
              "  }\n",
              "\n",
              "  .colab-df-quickchart:hover {\n",
              "    background-color: #E2EBFA;\n",
              "    box-shadow: 0px 1px 2px rgba(60, 64, 67, 0.3), 0px 1px 3px 1px rgba(60, 64, 67, 0.15);\n",
              "    fill: #174EA6;\n",
              "  }\n",
              "\n",
              "  [theme=dark] .colab-df-quickchart {\n",
              "    background-color: #3B4455;\n",
              "    fill: #D2E3FC;\n",
              "  }\n",
              "\n",
              "  [theme=dark] .colab-df-quickchart:hover {\n",
              "    background-color: #434B5C;\n",
              "    box-shadow: 0px 1px 3px 1px rgba(0, 0, 0, 0.15);\n",
              "    filter: drop-shadow(0px 1px 2px rgba(0, 0, 0, 0.3));\n",
              "    fill: #FFFFFF;\n",
              "  }\n",
              "</style>\n",
              "\n",
              "    <script>\n",
              "      async function quickchart(key) {\n",
              "        const containerElement = document.querySelector('#' + key);\n",
              "        const charts = await google.colab.kernel.invokeFunction(\n",
              "            'suggestCharts', [key], {});\n",
              "      }\n",
              "    </script>\n",
              "\n",
              "      <script>\n",
              "\n",
              "function displayQuickchartButton(domScope) {\n",
              "  let quickchartButtonEl =\n",
              "    domScope.querySelector('#df-38eef797-67b6-432e-b104-0b1074d59484 button.colab-df-quickchart');\n",
              "  quickchartButtonEl.style.display =\n",
              "    google.colab.kernel.accessAllowed ? 'block' : 'none';\n",
              "}\n",
              "\n",
              "        displayQuickchartButton(document);\n",
              "      </script>\n",
              "      <style>\n",
              "    .colab-df-container {\n",
              "      display:flex;\n",
              "      flex-wrap:wrap;\n",
              "      gap: 12px;\n",
              "    }\n",
              "\n",
              "    .colab-df-convert {\n",
              "      background-color: #E8F0FE;\n",
              "      border: none;\n",
              "      border-radius: 50%;\n",
              "      cursor: pointer;\n",
              "      display: none;\n",
              "      fill: #1967D2;\n",
              "      height: 32px;\n",
              "      padding: 0 0 0 0;\n",
              "      width: 32px;\n",
              "    }\n",
              "\n",
              "    .colab-df-convert:hover {\n",
              "      background-color: #E2EBFA;\n",
              "      box-shadow: 0px 1px 2px rgba(60, 64, 67, 0.3), 0px 1px 3px 1px rgba(60, 64, 67, 0.15);\n",
              "      fill: #174EA6;\n",
              "    }\n",
              "\n",
              "    [theme=dark] .colab-df-convert {\n",
              "      background-color: #3B4455;\n",
              "      fill: #D2E3FC;\n",
              "    }\n",
              "\n",
              "    [theme=dark] .colab-df-convert:hover {\n",
              "      background-color: #434B5C;\n",
              "      box-shadow: 0px 1px 3px 1px rgba(0, 0, 0, 0.15);\n",
              "      filter: drop-shadow(0px 1px 2px rgba(0, 0, 0, 0.3));\n",
              "      fill: #FFFFFF;\n",
              "    }\n",
              "  </style>\n",
              "\n",
              "      <script>\n",
              "        const buttonEl =\n",
              "          document.querySelector('#df-50041985-49f4-4c68-811d-8e9a8f417ba1 button.colab-df-convert');\n",
              "        buttonEl.style.display =\n",
              "          google.colab.kernel.accessAllowed ? 'block' : 'none';\n",
              "\n",
              "        async function convertToInteractive(key) {\n",
              "          const element = document.querySelector('#df-50041985-49f4-4c68-811d-8e9a8f417ba1');\n",
              "          const dataTable =\n",
              "            await google.colab.kernel.invokeFunction('convertToInteractive',\n",
              "                                                     [key], {});\n",
              "          if (!dataTable) return;\n",
              "\n",
              "          const docLinkHtml = 'Like what you see? Visit the ' +\n",
              "            '<a target=\"_blank\" href=https://colab.research.google.com/notebooks/data_table.ipynb>data table notebook</a>'\n",
              "            + ' to learn more about interactive tables.';\n",
              "          element.innerHTML = '';\n",
              "          dataTable['output_type'] = 'display_data';\n",
              "          await google.colab.output.renderOutput(dataTable, element);\n",
              "          const docLink = document.createElement('div');\n",
              "          docLink.innerHTML = docLinkHtml;\n",
              "          element.appendChild(docLink);\n",
              "        }\n",
              "      </script>\n",
              "    </div>\n",
              "  </div>\n"
            ]
          },
          "metadata": {},
          "execution_count": 8
        }
      ],
      "source": [
        "#Let's know some statistical information of the dataset\n",
        "df.describe()"
      ]
    },
    {
      "cell_type": "markdown",
      "metadata": {
        "id": "jYpNs4VhXpar"
      },
      "source": [
        "In Our data we found that we have 2000 Rows and 21 Columns, and also we have zero null values. Now let us do some operations and Statistical Implementation to know more about the data."
      ]
    },
    {
      "cell_type": "code",
      "execution_count": null,
      "metadata": {
        "colab": {
          "base_uri": "https://localhost:8080/"
        },
        "id": "LRPVsoh5oSUX",
        "outputId": "52b7964a-aee2-4aff-c062-e39b93cefa1c"
      },
      "outputs": [
        {
          "output_type": "execute_result",
          "data": {
            "text/plain": [
              "(1820, 21)"
            ]
          },
          "metadata": {},
          "execution_count": 9
        }
      ],
      "source": [
        "#now we remove the data points with missing data\n",
        "df_new = df[df['sc_w'] !=0]\n",
        "df_new.shape"
      ]
    },
    {
      "cell_type": "markdown",
      "metadata": {
        "id": "3b1w_Rx2bDIC"
      },
      "source": [
        "After removing the data points with missing data,we get 1820 rows and 21 columns. Now we will work on this new data."
      ]
    },
    {
      "cell_type": "code",
      "execution_count": null,
      "metadata": {
        "colab": {
          "base_uri": "https://localhost:8080/"
        },
        "id": "da7UZNgJ_Uts",
        "outputId": "01bfff17-b47c-4944-fedf-ed446c293d55"
      },
      "outputs": [
        {
          "output_type": "execute_result",
          "data": {
            "text/plain": [
              "battery_power    0\n",
              "blue             0\n",
              "clock_speed      0\n",
              "dual_sim         0\n",
              "fc               0\n",
              "four_g           0\n",
              "int_memory       0\n",
              "m_dep            0\n",
              "mobile_wt        0\n",
              "n_cores          0\n",
              "pc               0\n",
              "px_height        0\n",
              "px_width         0\n",
              "ram              0\n",
              "sc_h             0\n",
              "sc_w             0\n",
              "talk_time        0\n",
              "three_g          0\n",
              "touch_screen     0\n",
              "wifi             0\n",
              "price_range      0\n",
              "dtype: int64"
            ]
          },
          "metadata": {},
          "execution_count": 10
        }
      ],
      "source": [
        "#Let's check the null value in the data frame\n",
        "df_new.isnull().sum()"
      ]
    },
    {
      "cell_type": "code",
      "execution_count": null,
      "metadata": {
        "colab": {
          "base_uri": "https://localhost:8080/"
        },
        "id": "i-1GpkAH9rk8",
        "outputId": "6b58f12b-378c-43cd-b428-cffabb2afabb"
      },
      "outputs": [
        {
          "output_type": "execute_result",
          "data": {
            "text/plain": [
              "<bound method NDFrame._add_numeric_operations.<locals>.sum of 0       False\n",
              "1       False\n",
              "2       False\n",
              "3       False\n",
              "4       False\n",
              "        ...  \n",
              "1995    False\n",
              "1996    False\n",
              "1997    False\n",
              "1998    False\n",
              "1999    False\n",
              "Length: 1820, dtype: bool>"
            ]
          },
          "metadata": {},
          "execution_count": 11
        }
      ],
      "source": [
        "#Are there is any duplicate value in our data\n",
        "df_new.duplicated().sum\n"
      ]
    },
    {
      "cell_type": "markdown",
      "metadata": {
        "id": "c84MQqGG90wh"
      },
      "source": [
        "# ***Features Observation***"
      ]
    },
    {
      "cell_type": "code",
      "execution_count": null,
      "metadata": {
        "colab": {
          "base_uri": "https://localhost:8080/",
          "height": 801
        },
        "id": "d9ekMMHy-F4Y",
        "outputId": "751048de-b2f5-400f-8066-194e09fece15"
      },
      "outputs": [
        {
          "output_type": "execute_result",
          "data": {
            "text/plain": [
              "               battery_power      blue  clock_speed  dual_sim        fc  \\\n",
              "battery_power       1.000000  0.027992     0.002152 -0.046354  0.027197   \n",
              "blue                0.027992  1.000000     0.019804  0.018615 -0.002205   \n",
              "clock_speed         0.002152  0.019804     1.000000 -0.007912 -0.005542   \n",
              "dual_sim           -0.046354  0.018615    -0.007912  1.000000 -0.026517   \n",
              "fc                  0.027197 -0.002205    -0.005542 -0.026517  1.000000   \n",
              "four_g              0.018697  0.010622    -0.036898 -0.008137 -0.017656   \n",
              "int_memory         -0.005402  0.042236     0.004766 -0.018819 -0.031744   \n",
              "m_dep               0.034002  0.015608    -0.011873 -0.015983 -0.002944   \n",
              "mobile_wt           0.013024 -0.026841    -0.001622 -0.004086  0.032584   \n",
              "n_cores            -0.028151  0.031817    -0.014540 -0.017411 -0.021705   \n",
              "pc                  0.025003 -0.014121    -0.008409 -0.023797  0.645860   \n",
              "px_height           0.015521 -0.010014    -0.008289 -0.026444 -0.001315   \n",
              "px_width           -0.003020 -0.047889    -0.002100  0.009845 -0.004016   \n",
              "ram                -0.005942  0.030894     0.004992  0.048661  0.011890   \n",
              "sc_h               -0.044839 -0.015406    -0.024721 -0.008412 -0.012276   \n",
              "sc_w               -0.022328 -0.026305    -0.003689 -0.003627 -0.017634   \n",
              "talk_time           0.054852  0.016007    -0.023469 -0.029528 -0.018514   \n",
              "three_g             0.006717 -0.025322    -0.042981 -0.016976 -0.008326   \n",
              "touch_screen       -0.003490  0.000981     0.030562 -0.013324 -0.018925   \n",
              "wifi               -0.003430 -0.023289    -0.021580  0.023953  0.006272   \n",
              "price_range         0.194030  0.028416    -0.004004  0.023006  0.017603   \n",
              "\n",
              "                 four_g  int_memory     m_dep  mobile_wt   n_cores  ...  \\\n",
              "battery_power  0.018697   -0.005402  0.034002   0.013024 -0.028151  ...   \n",
              "blue           0.010622    0.042236  0.015608  -0.026841  0.031817  ...   \n",
              "clock_speed   -0.036898    0.004766 -0.011873  -0.001622 -0.014540  ...   \n",
              "dual_sim      -0.008137   -0.018819 -0.015983  -0.004086 -0.017411  ...   \n",
              "fc            -0.017656   -0.031744 -0.002944   0.032584 -0.021705  ...   \n",
              "four_g         1.000000    0.015415 -0.012938  -0.001657 -0.011529  ...   \n",
              "int_memory     0.015415    1.000000 -0.006701  -0.024979 -0.029379  ...   \n",
              "m_dep         -0.012938   -0.006701  1.000000   0.030820 -0.003486  ...   \n",
              "mobile_wt     -0.001657   -0.024979  0.030820   1.000000 -0.014328  ...   \n",
              "n_cores       -0.011529   -0.029379 -0.003486  -0.014328  1.000000  ...   \n",
              "pc            -0.006175   -0.037124  0.027843   0.028544 -0.006193  ...   \n",
              "px_height     -0.021578    0.006907  0.034623   0.002836  0.000044  ...   \n",
              "px_width       0.008076   -0.005905  0.034651   0.009330  0.024963  ...   \n",
              "ram            0.009220    0.037839 -0.011867  -0.000696 -0.014955  ...   \n",
              "sc_h           0.029355    0.036786 -0.031888  -0.040557 -0.000930  ...   \n",
              "sc_w           0.032820    0.005704 -0.011339  -0.038432  0.021441  ...   \n",
              "talk_time     -0.053015   -0.004404  0.019085   0.009199  0.007133  ...   \n",
              "three_g        0.588862   -0.001372 -0.014938   0.007449 -0.006844  ...   \n",
              "touch_screen   0.004740   -0.023362  0.006858  -0.011239  0.029548  ...   \n",
              "wifi          -0.017816    0.012848 -0.027403  -0.004564 -0.020551  ...   \n",
              "price_range    0.014336    0.051887  0.003064  -0.023872 -0.010310  ...   \n",
              "\n",
              "               px_height  px_width       ram      sc_h      sc_w  talk_time  \\\n",
              "battery_power   0.015521 -0.003020 -0.005942 -0.044839 -0.022328   0.054852   \n",
              "blue           -0.010014 -0.047889  0.030894 -0.015406 -0.026305   0.016007   \n",
              "clock_speed    -0.008289 -0.002100  0.004992 -0.024721 -0.003689  -0.023469   \n",
              "dual_sim       -0.026444  0.009845  0.048661 -0.008412 -0.003627  -0.029528   \n",
              "fc             -0.001315 -0.004016  0.011890 -0.012276 -0.017634  -0.018514   \n",
              "four_g         -0.021578  0.008076  0.009220  0.029355  0.032820  -0.053015   \n",
              "int_memory      0.006907 -0.005905  0.037839  0.036786  0.005704  -0.004404   \n",
              "m_dep           0.034623  0.034651 -0.011867 -0.031888 -0.011339   0.019085   \n",
              "mobile_wt       0.002836  0.009330 -0.000696 -0.040557 -0.038432   0.009199   \n",
              "n_cores         0.000044  0.024963 -0.014955 -0.000930  0.021441   0.007133   \n",
              "pc             -0.021054 -0.004249  0.022290  0.000087 -0.019059   0.008445   \n",
              "px_height       1.000000  0.514357 -0.020243  0.061542  0.043930  -0.010189   \n",
              "px_width        0.514357  1.000000 -0.014073  0.033608  0.035861  -0.000854   \n",
              "ram            -0.020243 -0.014073  1.000000  0.016093  0.028061   0.003018   \n",
              "sc_h            0.061542  0.033608  0.016093  1.000000  0.524420  -0.009076   \n",
              "sc_w            0.043930  0.035861  0.028061  0.524420  1.000000  -0.025272   \n",
              "talk_time      -0.010189 -0.000854  0.003018 -0.009076 -0.025272   1.000000   \n",
              "three_g        -0.030450  0.000022  0.015075  0.018335  0.037479  -0.055954   \n",
              "touch_screen    0.033523 -0.000349 -0.034163 -0.015777  0.000338   0.013984   \n",
              "wifi            0.058452  0.033859  0.024190  0.025688  0.021955  -0.031575   \n",
              "price_range     0.150052  0.150561  0.917026  0.024488  0.031852   0.011107   \n",
              "\n",
              "                three_g  touch_screen      wifi  price_range  \n",
              "battery_power  0.006717     -0.003490 -0.003430     0.194030  \n",
              "blue          -0.025322      0.000981 -0.023289     0.028416  \n",
              "clock_speed   -0.042981      0.030562 -0.021580    -0.004004  \n",
              "dual_sim      -0.016976     -0.013324  0.023953     0.023006  \n",
              "fc            -0.008326     -0.018925  0.006272     0.017603  \n",
              "four_g         0.588862      0.004740 -0.017816     0.014336  \n",
              "int_memory    -0.001372     -0.023362  0.012848     0.051887  \n",
              "m_dep         -0.014938      0.006858 -0.027403     0.003064  \n",
              "mobile_wt      0.007449     -0.011239 -0.004564    -0.023872  \n",
              "n_cores       -0.006844      0.029548 -0.020551    -0.010310  \n",
              "pc            -0.013545     -0.011959 -0.010282     0.023218  \n",
              "px_height     -0.030450      0.033523  0.058452     0.150052  \n",
              "px_width       0.000022     -0.000349  0.033859     0.150561  \n",
              "ram            0.015075     -0.034163  0.024190     0.917026  \n",
              "sc_h           0.018335     -0.015777  0.025688     0.024488  \n",
              "sc_w           0.037479      0.000338  0.021955     0.031852  \n",
              "talk_time     -0.055954      0.013984 -0.031575     0.011107  \n",
              "three_g        1.000000     -0.000396  0.000609     0.016767  \n",
              "touch_screen  -0.000396      1.000000  0.010588    -0.034013  \n",
              "wifi           0.000609      0.010588  1.000000     0.020901  \n",
              "price_range    0.016767     -0.034013  0.020901     1.000000  \n",
              "\n",
              "[21 rows x 21 columns]"
            ],
            "text/html": [
              "\n",
              "\n",
              "  <div id=\"df-73e2f1fc-51da-4fd9-8a1b-511b75301885\">\n",
              "    <div class=\"colab-df-container\">\n",
              "      <div>\n",
              "<style scoped>\n",
              "    .dataframe tbody tr th:only-of-type {\n",
              "        vertical-align: middle;\n",
              "    }\n",
              "\n",
              "    .dataframe tbody tr th {\n",
              "        vertical-align: top;\n",
              "    }\n",
              "\n",
              "    .dataframe thead th {\n",
              "        text-align: right;\n",
              "    }\n",
              "</style>\n",
              "<table border=\"1\" class=\"dataframe\">\n",
              "  <thead>\n",
              "    <tr style=\"text-align: right;\">\n",
              "      <th></th>\n",
              "      <th>battery_power</th>\n",
              "      <th>blue</th>\n",
              "      <th>clock_speed</th>\n",
              "      <th>dual_sim</th>\n",
              "      <th>fc</th>\n",
              "      <th>four_g</th>\n",
              "      <th>int_memory</th>\n",
              "      <th>m_dep</th>\n",
              "      <th>mobile_wt</th>\n",
              "      <th>n_cores</th>\n",
              "      <th>...</th>\n",
              "      <th>px_height</th>\n",
              "      <th>px_width</th>\n",
              "      <th>ram</th>\n",
              "      <th>sc_h</th>\n",
              "      <th>sc_w</th>\n",
              "      <th>talk_time</th>\n",
              "      <th>three_g</th>\n",
              "      <th>touch_screen</th>\n",
              "      <th>wifi</th>\n",
              "      <th>price_range</th>\n",
              "    </tr>\n",
              "  </thead>\n",
              "  <tbody>\n",
              "    <tr>\n",
              "      <th>battery_power</th>\n",
              "      <td>1.000000</td>\n",
              "      <td>0.027992</td>\n",
              "      <td>0.002152</td>\n",
              "      <td>-0.046354</td>\n",
              "      <td>0.027197</td>\n",
              "      <td>0.018697</td>\n",
              "      <td>-0.005402</td>\n",
              "      <td>0.034002</td>\n",
              "      <td>0.013024</td>\n",
              "      <td>-0.028151</td>\n",
              "      <td>...</td>\n",
              "      <td>0.015521</td>\n",
              "      <td>-0.003020</td>\n",
              "      <td>-0.005942</td>\n",
              "      <td>-0.044839</td>\n",
              "      <td>-0.022328</td>\n",
              "      <td>0.054852</td>\n",
              "      <td>0.006717</td>\n",
              "      <td>-0.003490</td>\n",
              "      <td>-0.003430</td>\n",
              "      <td>0.194030</td>\n",
              "    </tr>\n",
              "    <tr>\n",
              "      <th>blue</th>\n",
              "      <td>0.027992</td>\n",
              "      <td>1.000000</td>\n",
              "      <td>0.019804</td>\n",
              "      <td>0.018615</td>\n",
              "      <td>-0.002205</td>\n",
              "      <td>0.010622</td>\n",
              "      <td>0.042236</td>\n",
              "      <td>0.015608</td>\n",
              "      <td>-0.026841</td>\n",
              "      <td>0.031817</td>\n",
              "      <td>...</td>\n",
              "      <td>-0.010014</td>\n",
              "      <td>-0.047889</td>\n",
              "      <td>0.030894</td>\n",
              "      <td>-0.015406</td>\n",
              "      <td>-0.026305</td>\n",
              "      <td>0.016007</td>\n",
              "      <td>-0.025322</td>\n",
              "      <td>0.000981</td>\n",
              "      <td>-0.023289</td>\n",
              "      <td>0.028416</td>\n",
              "    </tr>\n",
              "    <tr>\n",
              "      <th>clock_speed</th>\n",
              "      <td>0.002152</td>\n",
              "      <td>0.019804</td>\n",
              "      <td>1.000000</td>\n",
              "      <td>-0.007912</td>\n",
              "      <td>-0.005542</td>\n",
              "      <td>-0.036898</td>\n",
              "      <td>0.004766</td>\n",
              "      <td>-0.011873</td>\n",
              "      <td>-0.001622</td>\n",
              "      <td>-0.014540</td>\n",
              "      <td>...</td>\n",
              "      <td>-0.008289</td>\n",
              "      <td>-0.002100</td>\n",
              "      <td>0.004992</td>\n",
              "      <td>-0.024721</td>\n",
              "      <td>-0.003689</td>\n",
              "      <td>-0.023469</td>\n",
              "      <td>-0.042981</td>\n",
              "      <td>0.030562</td>\n",
              "      <td>-0.021580</td>\n",
              "      <td>-0.004004</td>\n",
              "    </tr>\n",
              "    <tr>\n",
              "      <th>dual_sim</th>\n",
              "      <td>-0.046354</td>\n",
              "      <td>0.018615</td>\n",
              "      <td>-0.007912</td>\n",
              "      <td>1.000000</td>\n",
              "      <td>-0.026517</td>\n",
              "      <td>-0.008137</td>\n",
              "      <td>-0.018819</td>\n",
              "      <td>-0.015983</td>\n",
              "      <td>-0.004086</td>\n",
              "      <td>-0.017411</td>\n",
              "      <td>...</td>\n",
              "      <td>-0.026444</td>\n",
              "      <td>0.009845</td>\n",
              "      <td>0.048661</td>\n",
              "      <td>-0.008412</td>\n",
              "      <td>-0.003627</td>\n",
              "      <td>-0.029528</td>\n",
              "      <td>-0.016976</td>\n",
              "      <td>-0.013324</td>\n",
              "      <td>0.023953</td>\n",
              "      <td>0.023006</td>\n",
              "    </tr>\n",
              "    <tr>\n",
              "      <th>fc</th>\n",
              "      <td>0.027197</td>\n",
              "      <td>-0.002205</td>\n",
              "      <td>-0.005542</td>\n",
              "      <td>-0.026517</td>\n",
              "      <td>1.000000</td>\n",
              "      <td>-0.017656</td>\n",
              "      <td>-0.031744</td>\n",
              "      <td>-0.002944</td>\n",
              "      <td>0.032584</td>\n",
              "      <td>-0.021705</td>\n",
              "      <td>...</td>\n",
              "      <td>-0.001315</td>\n",
              "      <td>-0.004016</td>\n",
              "      <td>0.011890</td>\n",
              "      <td>-0.012276</td>\n",
              "      <td>-0.017634</td>\n",
              "      <td>-0.018514</td>\n",
              "      <td>-0.008326</td>\n",
              "      <td>-0.018925</td>\n",
              "      <td>0.006272</td>\n",
              "      <td>0.017603</td>\n",
              "    </tr>\n",
              "    <tr>\n",
              "      <th>four_g</th>\n",
              "      <td>0.018697</td>\n",
              "      <td>0.010622</td>\n",
              "      <td>-0.036898</td>\n",
              "      <td>-0.008137</td>\n",
              "      <td>-0.017656</td>\n",
              "      <td>1.000000</td>\n",
              "      <td>0.015415</td>\n",
              "      <td>-0.012938</td>\n",
              "      <td>-0.001657</td>\n",
              "      <td>-0.011529</td>\n",
              "      <td>...</td>\n",
              "      <td>-0.021578</td>\n",
              "      <td>0.008076</td>\n",
              "      <td>0.009220</td>\n",
              "      <td>0.029355</td>\n",
              "      <td>0.032820</td>\n",
              "      <td>-0.053015</td>\n",
              "      <td>0.588862</td>\n",
              "      <td>0.004740</td>\n",
              "      <td>-0.017816</td>\n",
              "      <td>0.014336</td>\n",
              "    </tr>\n",
              "    <tr>\n",
              "      <th>int_memory</th>\n",
              "      <td>-0.005402</td>\n",
              "      <td>0.042236</td>\n",
              "      <td>0.004766</td>\n",
              "      <td>-0.018819</td>\n",
              "      <td>-0.031744</td>\n",
              "      <td>0.015415</td>\n",
              "      <td>1.000000</td>\n",
              "      <td>-0.006701</td>\n",
              "      <td>-0.024979</td>\n",
              "      <td>-0.029379</td>\n",
              "      <td>...</td>\n",
              "      <td>0.006907</td>\n",
              "      <td>-0.005905</td>\n",
              "      <td>0.037839</td>\n",
              "      <td>0.036786</td>\n",
              "      <td>0.005704</td>\n",
              "      <td>-0.004404</td>\n",
              "      <td>-0.001372</td>\n",
              "      <td>-0.023362</td>\n",
              "      <td>0.012848</td>\n",
              "      <td>0.051887</td>\n",
              "    </tr>\n",
              "    <tr>\n",
              "      <th>m_dep</th>\n",
              "      <td>0.034002</td>\n",
              "      <td>0.015608</td>\n",
              "      <td>-0.011873</td>\n",
              "      <td>-0.015983</td>\n",
              "      <td>-0.002944</td>\n",
              "      <td>-0.012938</td>\n",
              "      <td>-0.006701</td>\n",
              "      <td>1.000000</td>\n",
              "      <td>0.030820</td>\n",
              "      <td>-0.003486</td>\n",
              "      <td>...</td>\n",
              "      <td>0.034623</td>\n",
              "      <td>0.034651</td>\n",
              "      <td>-0.011867</td>\n",
              "      <td>-0.031888</td>\n",
              "      <td>-0.011339</td>\n",
              "      <td>0.019085</td>\n",
              "      <td>-0.014938</td>\n",
              "      <td>0.006858</td>\n",
              "      <td>-0.027403</td>\n",
              "      <td>0.003064</td>\n",
              "    </tr>\n",
              "    <tr>\n",
              "      <th>mobile_wt</th>\n",
              "      <td>0.013024</td>\n",
              "      <td>-0.026841</td>\n",
              "      <td>-0.001622</td>\n",
              "      <td>-0.004086</td>\n",
              "      <td>0.032584</td>\n",
              "      <td>-0.001657</td>\n",
              "      <td>-0.024979</td>\n",
              "      <td>0.030820</td>\n",
              "      <td>1.000000</td>\n",
              "      <td>-0.014328</td>\n",
              "      <td>...</td>\n",
              "      <td>0.002836</td>\n",
              "      <td>0.009330</td>\n",
              "      <td>-0.000696</td>\n",
              "      <td>-0.040557</td>\n",
              "      <td>-0.038432</td>\n",
              "      <td>0.009199</td>\n",
              "      <td>0.007449</td>\n",
              "      <td>-0.011239</td>\n",
              "      <td>-0.004564</td>\n",
              "      <td>-0.023872</td>\n",
              "    </tr>\n",
              "    <tr>\n",
              "      <th>n_cores</th>\n",
              "      <td>-0.028151</td>\n",
              "      <td>0.031817</td>\n",
              "      <td>-0.014540</td>\n",
              "      <td>-0.017411</td>\n",
              "      <td>-0.021705</td>\n",
              "      <td>-0.011529</td>\n",
              "      <td>-0.029379</td>\n",
              "      <td>-0.003486</td>\n",
              "      <td>-0.014328</td>\n",
              "      <td>1.000000</td>\n",
              "      <td>...</td>\n",
              "      <td>0.000044</td>\n",
              "      <td>0.024963</td>\n",
              "      <td>-0.014955</td>\n",
              "      <td>-0.000930</td>\n",
              "      <td>0.021441</td>\n",
              "      <td>0.007133</td>\n",
              "      <td>-0.006844</td>\n",
              "      <td>0.029548</td>\n",
              "      <td>-0.020551</td>\n",
              "      <td>-0.010310</td>\n",
              "    </tr>\n",
              "    <tr>\n",
              "      <th>pc</th>\n",
              "      <td>0.025003</td>\n",
              "      <td>-0.014121</td>\n",
              "      <td>-0.008409</td>\n",
              "      <td>-0.023797</td>\n",
              "      <td>0.645860</td>\n",
              "      <td>-0.006175</td>\n",
              "      <td>-0.037124</td>\n",
              "      <td>0.027843</td>\n",
              "      <td>0.028544</td>\n",
              "      <td>-0.006193</td>\n",
              "      <td>...</td>\n",
              "      <td>-0.021054</td>\n",
              "      <td>-0.004249</td>\n",
              "      <td>0.022290</td>\n",
              "      <td>0.000087</td>\n",
              "      <td>-0.019059</td>\n",
              "      <td>0.008445</td>\n",
              "      <td>-0.013545</td>\n",
              "      <td>-0.011959</td>\n",
              "      <td>-0.010282</td>\n",
              "      <td>0.023218</td>\n",
              "    </tr>\n",
              "    <tr>\n",
              "      <th>px_height</th>\n",
              "      <td>0.015521</td>\n",
              "      <td>-0.010014</td>\n",
              "      <td>-0.008289</td>\n",
              "      <td>-0.026444</td>\n",
              "      <td>-0.001315</td>\n",
              "      <td>-0.021578</td>\n",
              "      <td>0.006907</td>\n",
              "      <td>0.034623</td>\n",
              "      <td>0.002836</td>\n",
              "      <td>0.000044</td>\n",
              "      <td>...</td>\n",
              "      <td>1.000000</td>\n",
              "      <td>0.514357</td>\n",
              "      <td>-0.020243</td>\n",
              "      <td>0.061542</td>\n",
              "      <td>0.043930</td>\n",
              "      <td>-0.010189</td>\n",
              "      <td>-0.030450</td>\n",
              "      <td>0.033523</td>\n",
              "      <td>0.058452</td>\n",
              "      <td>0.150052</td>\n",
              "    </tr>\n",
              "    <tr>\n",
              "      <th>px_width</th>\n",
              "      <td>-0.003020</td>\n",
              "      <td>-0.047889</td>\n",
              "      <td>-0.002100</td>\n",
              "      <td>0.009845</td>\n",
              "      <td>-0.004016</td>\n",
              "      <td>0.008076</td>\n",
              "      <td>-0.005905</td>\n",
              "      <td>0.034651</td>\n",
              "      <td>0.009330</td>\n",
              "      <td>0.024963</td>\n",
              "      <td>...</td>\n",
              "      <td>0.514357</td>\n",
              "      <td>1.000000</td>\n",
              "      <td>-0.014073</td>\n",
              "      <td>0.033608</td>\n",
              "      <td>0.035861</td>\n",
              "      <td>-0.000854</td>\n",
              "      <td>0.000022</td>\n",
              "      <td>-0.000349</td>\n",
              "      <td>0.033859</td>\n",
              "      <td>0.150561</td>\n",
              "    </tr>\n",
              "    <tr>\n",
              "      <th>ram</th>\n",
              "      <td>-0.005942</td>\n",
              "      <td>0.030894</td>\n",
              "      <td>0.004992</td>\n",
              "      <td>0.048661</td>\n",
              "      <td>0.011890</td>\n",
              "      <td>0.009220</td>\n",
              "      <td>0.037839</td>\n",
              "      <td>-0.011867</td>\n",
              "      <td>-0.000696</td>\n",
              "      <td>-0.014955</td>\n",
              "      <td>...</td>\n",
              "      <td>-0.020243</td>\n",
              "      <td>-0.014073</td>\n",
              "      <td>1.000000</td>\n",
              "      <td>0.016093</td>\n",
              "      <td>0.028061</td>\n",
              "      <td>0.003018</td>\n",
              "      <td>0.015075</td>\n",
              "      <td>-0.034163</td>\n",
              "      <td>0.024190</td>\n",
              "      <td>0.917026</td>\n",
              "    </tr>\n",
              "    <tr>\n",
              "      <th>sc_h</th>\n",
              "      <td>-0.044839</td>\n",
              "      <td>-0.015406</td>\n",
              "      <td>-0.024721</td>\n",
              "      <td>-0.008412</td>\n",
              "      <td>-0.012276</td>\n",
              "      <td>0.029355</td>\n",
              "      <td>0.036786</td>\n",
              "      <td>-0.031888</td>\n",
              "      <td>-0.040557</td>\n",
              "      <td>-0.000930</td>\n",
              "      <td>...</td>\n",
              "      <td>0.061542</td>\n",
              "      <td>0.033608</td>\n",
              "      <td>0.016093</td>\n",
              "      <td>1.000000</td>\n",
              "      <td>0.524420</td>\n",
              "      <td>-0.009076</td>\n",
              "      <td>0.018335</td>\n",
              "      <td>-0.015777</td>\n",
              "      <td>0.025688</td>\n",
              "      <td>0.024488</td>\n",
              "    </tr>\n",
              "    <tr>\n",
              "      <th>sc_w</th>\n",
              "      <td>-0.022328</td>\n",
              "      <td>-0.026305</td>\n",
              "      <td>-0.003689</td>\n",
              "      <td>-0.003627</td>\n",
              "      <td>-0.017634</td>\n",
              "      <td>0.032820</td>\n",
              "      <td>0.005704</td>\n",
              "      <td>-0.011339</td>\n",
              "      <td>-0.038432</td>\n",
              "      <td>0.021441</td>\n",
              "      <td>...</td>\n",
              "      <td>0.043930</td>\n",
              "      <td>0.035861</td>\n",
              "      <td>0.028061</td>\n",
              "      <td>0.524420</td>\n",
              "      <td>1.000000</td>\n",
              "      <td>-0.025272</td>\n",
              "      <td>0.037479</td>\n",
              "      <td>0.000338</td>\n",
              "      <td>0.021955</td>\n",
              "      <td>0.031852</td>\n",
              "    </tr>\n",
              "    <tr>\n",
              "      <th>talk_time</th>\n",
              "      <td>0.054852</td>\n",
              "      <td>0.016007</td>\n",
              "      <td>-0.023469</td>\n",
              "      <td>-0.029528</td>\n",
              "      <td>-0.018514</td>\n",
              "      <td>-0.053015</td>\n",
              "      <td>-0.004404</td>\n",
              "      <td>0.019085</td>\n",
              "      <td>0.009199</td>\n",
              "      <td>0.007133</td>\n",
              "      <td>...</td>\n",
              "      <td>-0.010189</td>\n",
              "      <td>-0.000854</td>\n",
              "      <td>0.003018</td>\n",
              "      <td>-0.009076</td>\n",
              "      <td>-0.025272</td>\n",
              "      <td>1.000000</td>\n",
              "      <td>-0.055954</td>\n",
              "      <td>0.013984</td>\n",
              "      <td>-0.031575</td>\n",
              "      <td>0.011107</td>\n",
              "    </tr>\n",
              "    <tr>\n",
              "      <th>three_g</th>\n",
              "      <td>0.006717</td>\n",
              "      <td>-0.025322</td>\n",
              "      <td>-0.042981</td>\n",
              "      <td>-0.016976</td>\n",
              "      <td>-0.008326</td>\n",
              "      <td>0.588862</td>\n",
              "      <td>-0.001372</td>\n",
              "      <td>-0.014938</td>\n",
              "      <td>0.007449</td>\n",
              "      <td>-0.006844</td>\n",
              "      <td>...</td>\n",
              "      <td>-0.030450</td>\n",
              "      <td>0.000022</td>\n",
              "      <td>0.015075</td>\n",
              "      <td>0.018335</td>\n",
              "      <td>0.037479</td>\n",
              "      <td>-0.055954</td>\n",
              "      <td>1.000000</td>\n",
              "      <td>-0.000396</td>\n",
              "      <td>0.000609</td>\n",
              "      <td>0.016767</td>\n",
              "    </tr>\n",
              "    <tr>\n",
              "      <th>touch_screen</th>\n",
              "      <td>-0.003490</td>\n",
              "      <td>0.000981</td>\n",
              "      <td>0.030562</td>\n",
              "      <td>-0.013324</td>\n",
              "      <td>-0.018925</td>\n",
              "      <td>0.004740</td>\n",
              "      <td>-0.023362</td>\n",
              "      <td>0.006858</td>\n",
              "      <td>-0.011239</td>\n",
              "      <td>0.029548</td>\n",
              "      <td>...</td>\n",
              "      <td>0.033523</td>\n",
              "      <td>-0.000349</td>\n",
              "      <td>-0.034163</td>\n",
              "      <td>-0.015777</td>\n",
              "      <td>0.000338</td>\n",
              "      <td>0.013984</td>\n",
              "      <td>-0.000396</td>\n",
              "      <td>1.000000</td>\n",
              "      <td>0.010588</td>\n",
              "      <td>-0.034013</td>\n",
              "    </tr>\n",
              "    <tr>\n",
              "      <th>wifi</th>\n",
              "      <td>-0.003430</td>\n",
              "      <td>-0.023289</td>\n",
              "      <td>-0.021580</td>\n",
              "      <td>0.023953</td>\n",
              "      <td>0.006272</td>\n",
              "      <td>-0.017816</td>\n",
              "      <td>0.012848</td>\n",
              "      <td>-0.027403</td>\n",
              "      <td>-0.004564</td>\n",
              "      <td>-0.020551</td>\n",
              "      <td>...</td>\n",
              "      <td>0.058452</td>\n",
              "      <td>0.033859</td>\n",
              "      <td>0.024190</td>\n",
              "      <td>0.025688</td>\n",
              "      <td>0.021955</td>\n",
              "      <td>-0.031575</td>\n",
              "      <td>0.000609</td>\n",
              "      <td>0.010588</td>\n",
              "      <td>1.000000</td>\n",
              "      <td>0.020901</td>\n",
              "    </tr>\n",
              "    <tr>\n",
              "      <th>price_range</th>\n",
              "      <td>0.194030</td>\n",
              "      <td>0.028416</td>\n",
              "      <td>-0.004004</td>\n",
              "      <td>0.023006</td>\n",
              "      <td>0.017603</td>\n",
              "      <td>0.014336</td>\n",
              "      <td>0.051887</td>\n",
              "      <td>0.003064</td>\n",
              "      <td>-0.023872</td>\n",
              "      <td>-0.010310</td>\n",
              "      <td>...</td>\n",
              "      <td>0.150052</td>\n",
              "      <td>0.150561</td>\n",
              "      <td>0.917026</td>\n",
              "      <td>0.024488</td>\n",
              "      <td>0.031852</td>\n",
              "      <td>0.011107</td>\n",
              "      <td>0.016767</td>\n",
              "      <td>-0.034013</td>\n",
              "      <td>0.020901</td>\n",
              "      <td>1.000000</td>\n",
              "    </tr>\n",
              "  </tbody>\n",
              "</table>\n",
              "<p>21 rows × 21 columns</p>\n",
              "</div>\n",
              "      <button class=\"colab-df-convert\" onclick=\"convertToInteractive('df-73e2f1fc-51da-4fd9-8a1b-511b75301885')\"\n",
              "              title=\"Convert this dataframe to an interactive table.\"\n",
              "              style=\"display:none;\">\n",
              "\n",
              "  <svg xmlns=\"http://www.w3.org/2000/svg\" height=\"24px\"viewBox=\"0 0 24 24\"\n",
              "       width=\"24px\">\n",
              "    <path d=\"M0 0h24v24H0V0z\" fill=\"none\"/>\n",
              "    <path d=\"M18.56 5.44l.94 2.06.94-2.06 2.06-.94-2.06-.94-.94-2.06-.94 2.06-2.06.94zm-11 1L8.5 8.5l.94-2.06 2.06-.94-2.06-.94L8.5 2.5l-.94 2.06-2.06.94zm10 10l.94 2.06.94-2.06 2.06-.94-2.06-.94-.94-2.06-.94 2.06-2.06.94z\"/><path d=\"M17.41 7.96l-1.37-1.37c-.4-.4-.92-.59-1.43-.59-.52 0-1.04.2-1.43.59L10.3 9.45l-7.72 7.72c-.78.78-.78 2.05 0 2.83L4 21.41c.39.39.9.59 1.41.59.51 0 1.02-.2 1.41-.59l7.78-7.78 2.81-2.81c.8-.78.8-2.07 0-2.86zM5.41 20L4 18.59l7.72-7.72 1.47 1.35L5.41 20z\"/>\n",
              "  </svg>\n",
              "      </button>\n",
              "\n",
              "\n",
              "\n",
              "    <div id=\"df-5eca7cfc-da26-4227-a5a8-07131ee4c077\">\n",
              "      <button class=\"colab-df-quickchart\" onclick=\"quickchart('df-5eca7cfc-da26-4227-a5a8-07131ee4c077')\"\n",
              "              title=\"Suggest charts.\"\n",
              "              style=\"display:none;\">\n",
              "\n",
              "<svg xmlns=\"http://www.w3.org/2000/svg\" height=\"24px\"viewBox=\"0 0 24 24\"\n",
              "     width=\"24px\">\n",
              "    <g>\n",
              "        <path d=\"M19 3H5c-1.1 0-2 .9-2 2v14c0 1.1.9 2 2 2h14c1.1 0 2-.9 2-2V5c0-1.1-.9-2-2-2zM9 17H7v-7h2v7zm4 0h-2V7h2v10zm4 0h-2v-4h2v4z\"/>\n",
              "    </g>\n",
              "</svg>\n",
              "      </button>\n",
              "    </div>\n",
              "\n",
              "<style>\n",
              "  .colab-df-quickchart {\n",
              "    background-color: #E8F0FE;\n",
              "    border: none;\n",
              "    border-radius: 50%;\n",
              "    cursor: pointer;\n",
              "    display: none;\n",
              "    fill: #1967D2;\n",
              "    height: 32px;\n",
              "    padding: 0 0 0 0;\n",
              "    width: 32px;\n",
              "  }\n",
              "\n",
              "  .colab-df-quickchart:hover {\n",
              "    background-color: #E2EBFA;\n",
              "    box-shadow: 0px 1px 2px rgba(60, 64, 67, 0.3), 0px 1px 3px 1px rgba(60, 64, 67, 0.15);\n",
              "    fill: #174EA6;\n",
              "  }\n",
              "\n",
              "  [theme=dark] .colab-df-quickchart {\n",
              "    background-color: #3B4455;\n",
              "    fill: #D2E3FC;\n",
              "  }\n",
              "\n",
              "  [theme=dark] .colab-df-quickchart:hover {\n",
              "    background-color: #434B5C;\n",
              "    box-shadow: 0px 1px 3px 1px rgba(0, 0, 0, 0.15);\n",
              "    filter: drop-shadow(0px 1px 2px rgba(0, 0, 0, 0.3));\n",
              "    fill: #FFFFFF;\n",
              "  }\n",
              "</style>\n",
              "\n",
              "    <script>\n",
              "      async function quickchart(key) {\n",
              "        const containerElement = document.querySelector('#' + key);\n",
              "        const charts = await google.colab.kernel.invokeFunction(\n",
              "            'suggestCharts', [key], {});\n",
              "      }\n",
              "    </script>\n",
              "\n",
              "      <script>\n",
              "\n",
              "function displayQuickchartButton(domScope) {\n",
              "  let quickchartButtonEl =\n",
              "    domScope.querySelector('#df-5eca7cfc-da26-4227-a5a8-07131ee4c077 button.colab-df-quickchart');\n",
              "  quickchartButtonEl.style.display =\n",
              "    google.colab.kernel.accessAllowed ? 'block' : 'none';\n",
              "}\n",
              "\n",
              "        displayQuickchartButton(document);\n",
              "      </script>\n",
              "      <style>\n",
              "    .colab-df-container {\n",
              "      display:flex;\n",
              "      flex-wrap:wrap;\n",
              "      gap: 12px;\n",
              "    }\n",
              "\n",
              "    .colab-df-convert {\n",
              "      background-color: #E8F0FE;\n",
              "      border: none;\n",
              "      border-radius: 50%;\n",
              "      cursor: pointer;\n",
              "      display: none;\n",
              "      fill: #1967D2;\n",
              "      height: 32px;\n",
              "      padding: 0 0 0 0;\n",
              "      width: 32px;\n",
              "    }\n",
              "\n",
              "    .colab-df-convert:hover {\n",
              "      background-color: #E2EBFA;\n",
              "      box-shadow: 0px 1px 2px rgba(60, 64, 67, 0.3), 0px 1px 3px 1px rgba(60, 64, 67, 0.15);\n",
              "      fill: #174EA6;\n",
              "    }\n",
              "\n",
              "    [theme=dark] .colab-df-convert {\n",
              "      background-color: #3B4455;\n",
              "      fill: #D2E3FC;\n",
              "    }\n",
              "\n",
              "    [theme=dark] .colab-df-convert:hover {\n",
              "      background-color: #434B5C;\n",
              "      box-shadow: 0px 1px 3px 1px rgba(0, 0, 0, 0.15);\n",
              "      filter: drop-shadow(0px 1px 2px rgba(0, 0, 0, 0.3));\n",
              "      fill: #FFFFFF;\n",
              "    }\n",
              "  </style>\n",
              "\n",
              "      <script>\n",
              "        const buttonEl =\n",
              "          document.querySelector('#df-73e2f1fc-51da-4fd9-8a1b-511b75301885 button.colab-df-convert');\n",
              "        buttonEl.style.display =\n",
              "          google.colab.kernel.accessAllowed ? 'block' : 'none';\n",
              "\n",
              "        async function convertToInteractive(key) {\n",
              "          const element = document.querySelector('#df-73e2f1fc-51da-4fd9-8a1b-511b75301885');\n",
              "          const dataTable =\n",
              "            await google.colab.kernel.invokeFunction('convertToInteractive',\n",
              "                                                     [key], {});\n",
              "          if (!dataTable) return;\n",
              "\n",
              "          const docLinkHtml = 'Like what you see? Visit the ' +\n",
              "            '<a target=\"_blank\" href=https://colab.research.google.com/notebooks/data_table.ipynb>data table notebook</a>'\n",
              "            + ' to learn more about interactive tables.';\n",
              "          element.innerHTML = '';\n",
              "          dataTable['output_type'] = 'display_data';\n",
              "          await google.colab.output.renderOutput(dataTable, element);\n",
              "          const docLink = document.createElement('div');\n",
              "          docLink.innerHTML = docLinkHtml;\n",
              "          element.appendChild(docLink);\n",
              "        }\n",
              "      </script>\n",
              "    </div>\n",
              "  </div>\n"
            ]
          },
          "metadata": {},
          "execution_count": 12
        }
      ],
      "source": [
        "#Finding out the corellation between features\n",
        "corr = df_new.corr()\n",
        "corr"
      ]
    },
    {
      "cell_type": "code",
      "execution_count": null,
      "metadata": {
        "colab": {
          "base_uri": "https://localhost:8080/"
        },
        "id": "-30Obyjq-dAP",
        "outputId": "784577f0-eac5-47f9-fade-874d4acfbaac"
      },
      "outputs": [
        {
          "output_type": "execute_result",
          "data": {
            "text/plain": [
              "battery_power    0.194030\n",
              "blue             0.028416\n",
              "clock_speed     -0.004004\n",
              "dual_sim         0.023006\n",
              "fc               0.017603\n",
              "four_g           0.014336\n",
              "int_memory       0.051887\n",
              "m_dep            0.003064\n",
              "mobile_wt       -0.023872\n",
              "n_cores         -0.010310\n",
              "pc               0.023218\n",
              "px_height        0.150052\n",
              "px_width         0.150561\n",
              "ram              0.917026\n",
              "sc_h             0.024488\n",
              "sc_w             0.031852\n",
              "talk_time        0.011107\n",
              "three_g          0.016767\n",
              "touch_screen    -0.034013\n",
              "wifi             0.020901\n",
              "price_range      1.000000\n",
              "Name: price_range, dtype: float64"
            ]
          },
          "metadata": {},
          "execution_count": 13
        }
      ],
      "source": [
        "df_new.corr()[\"price_range\"]"
      ]
    },
    {
      "cell_type": "code",
      "source": [
        "# Check if there any missing values in our data Set\n",
        "msno.bar(df)"
      ],
      "metadata": {
        "colab": {
          "base_uri": "https://localhost:8080/",
          "height": 492
        },
        "id": "Ml_ZzqoEZ6jM",
        "outputId": "19c5cbd7-ca31-4f7a-b0e8-92d7f10adf99"
      },
      "execution_count": null,
      "outputs": [
        {
          "output_type": "execute_result",
          "data": {
            "text/plain": [
              "<Axes: >"
            ]
          },
          "metadata": {},
          "execution_count": 14
        },
        {
          "output_type": "display_data",
          "data": {
            "text/plain": [
              "<Figure size 2500x1000 with 3 Axes>"
            ],
            "image/png": "[encoded data removed]"
          },
          "metadata": {}
        }
      ]
    },
    {
      "cell_type": "markdown",
      "metadata": {
        "id": "fpFf4p-GbUCu"
      },
      "source": [
        "**Let us do some Univariate,Bivariate and Multivariate analysis and find insights about the data using graph.**"
      ]
    },
    {
      "cell_type": "code",
      "execution_count": null,
      "metadata": {
        "colab": {
          "base_uri": "https://localhost:8080/",
          "height": 940
        },
        "id": "Msybhzgm-kKW",
        "outputId": "6ef59dd7-a444-4957-fea7-cb9cf6efac16"
      },
      "outputs": [
        {
          "output_type": "execute_result",
          "data": {
            "text/plain": [
              "<Axes: >"
            ]
          },
          "metadata": {},
          "execution_count": 15
        },
        {
          "output_type": "display_data",
          "data": {
            "text/plain": [
              "<Figure size 1000x1000 with 2 Axes>"
            ],
            "image/png": "[encoded data removed]"
          },
          "metadata": {}
        }
      ],
      "source": [
        "#First understanding the correlation of features between the target and other features\n",
        "#Plotting the heatmap of correaltion between features\n",
        "plt.figure(figsize=(10,10))\n",
        "sns.heatmap(corr, cmap= 'Greens')"
      ]
    },
    {
      "cell_type": "markdown",
      "source": [
        "From above heatmap we shows that in this dataset every column is equally important for the prediction of mobile price. So here no need to check the correlation of this dataset."
      ],
      "metadata": {
        "id": "7BNJVwx_8YmO"
      }
    },
    {
      "cell_type": "markdown",
      "source": [
        "**Let us visualize the number of elements in each class of the mobile phones**"
      ],
      "metadata": {
        "id": "HjwXCfVk8Ibw"
      }
    },
    {
      "cell_type": "code",
      "execution_count": null,
      "metadata": {
        "colab": {
          "base_uri": "https://localhost:8080/",
          "height": 467
        },
        "id": "q_7SO5TyzhQO",
        "outputId": "1c362b9f-592a-47a5-8009-2654b568a4cd"
      },
      "outputs": [
        {
          "output_type": "execute_result",
          "data": {
            "text/plain": [
              "<function matplotlib.pyplot.show(close=None, block=None)>"
            ]
          },
          "metadata": {},
          "execution_count": 16
        },
        {
          "output_type": "display_data",
          "data": {
            "text/plain": [
              "<Figure size 640x480 with 1 Axes>"
            ],
            "image/png": "[encoded data removed]"
          },
          "metadata": {}
        }
      ],
      "source": [
        "#Let us visualize the number of element in each class of mobile phones.\n",
        "sns.countplot(x=df_new['price_range'])\n",
        "plt.show"
      ]
    },
    {
      "cell_type": "markdown",
      "metadata": {
        "id": "DT2mTs-GZqgI"
      },
      "source": [
        "So, there are 4 ranges of mobile. The number of element is almost similar."
      ]
    },
    {
      "cell_type": "code",
      "execution_count": null,
      "metadata": {
        "colab": {
          "base_uri": "https://localhost:8080/",
          "height": 466
        },
        "id": "gOQEi-Qy55AM",
        "outputId": "115d92b1-6f31-4700-f950-70b27a0050dd"
      },
      "outputs": [
        {
          "output_type": "execute_result",
          "data": {
            "text/plain": [
              "<Axes: xlabel='blue', ylabel='count'>"
            ]
          },
          "metadata": {},
          "execution_count": 17
        },
        {
          "output_type": "display_data",
          "data": {
            "text/plain": [
              "<Figure size 640x480 with 1 Axes>"
            ],
            "image/png": "[encoded data removed]"
          },
          "metadata": {}
        }
      ],
      "source": [
        "# Let us see how many devices have bluetooth and how many don't.\n",
        "sns.countplot(x=df_new['blue'],saturation=0.75,width=0.5)"
      ]
    },
    {
      "cell_type": "markdown",
      "metadata": {
        "id": "VGDflXUX8Htw"
      },
      "source": [
        "So, we can see that almost half of the devices have Bluetooth, and half don't."
      ]
    },
    {
      "cell_type": "code",
      "execution_count": null,
      "metadata": {
        "colab": {
          "base_uri": "https://localhost:8080/",
          "height": 467
        },
        "id": "EFg7OzeMxF-Q",
        "outputId": "4db07be2-f243-4653-8372-7e3b614d4b76"
      },
      "outputs": [
        {
          "output_type": "execute_result",
          "data": {
            "text/plain": [
              "array([924, 896])"
            ]
          },
          "metadata": {},
          "execution_count": 18
        },
        {
          "output_type": "display_data",
          "data": {
            "text/plain": [
              "<Figure size 640x480 with 1 Axes>"
            ],
            "image/png": "[encoded data removed]"
          },
          "metadata": {}
        }
      ],
      "source": [
        "# Let us see how many devices is touchscreen and how many devices is not.\n",
        "sns.countplot(x=df_new['touch_screen'])\n",
        "values=df_new['touch_screen'].value_counts().values\n",
        "values"
      ]
    },
    {
      "cell_type": "markdown",
      "metadata": {
        "id": "6kYqEDcoHn2y"
      },
      "source": [
        "Here we can se 924 phones is touchscreen and 896 phones is not touchscreen."
      ]
    },
    {
      "cell_type": "code",
      "execution_count": null,
      "metadata": {
        "colab": {
          "base_uri": "https://localhost:8080/",
          "height": 471
        },
        "id": "CreWLsedF000",
        "outputId": "e24d196f-5015-40f4-aef1-97f86422d380"
      },
      "outputs": [
        {
          "output_type": "execute_result",
          "data": {
            "text/plain": [
              "array([955, 865])"
            ]
          },
          "metadata": {},
          "execution_count": 19
        },
        {
          "output_type": "display_data",
          "data": {
            "text/plain": [
              "<Figure size 640x480 with 1 Axes>"
            ],
            "image/png": "[encoded data removed]"
          },
          "metadata": {}
        }
      ],
      "source": [
        "#Now we can see how many devices is 4g or 3g\n",
        "sns.countplot(x=df_new['four_g'],saturation=0.75,width=0.5)\n",
        "values=df_new['four_g'].value_counts().values\n",
        "values"
      ]
    },
    {
      "cell_type": "markdown",
      "metadata": {
        "id": "IbF5YtpMGicB"
      },
      "source": [
        "Here we can see 955 devices 4G supported and 865 not support 4G."
      ]
    },
    {
      "cell_type": "code",
      "execution_count": null,
      "metadata": {
        "colab": {
          "base_uri": "https://localhost:8080/",
          "height": 406
        },
        "id": "IfL_H8TidTQl",
        "outputId": "ae18067e-ba3f-4804-ff3c-feef0830b879"
      },
      "outputs": [
        {
          "output_type": "display_data",
          "data": {
            "text/plain": [
              "<Figure size 640x480 with 1 Axes>"
            ],
            "image/png": "[encoded data removed]"
          },
          "metadata": {}
        }
      ],
      "source": [
        "# % of Phones which support 4G\n",
        "labels = [\"4G-supported\",'Not supported']\n",
        "fig1, ax1 = plt.subplots()\n",
        "ax1.pie(values, labels=labels, autopct='%1.1f%%', startangle=90)\n",
        "plt.show()\n"
      ]
    },
    {
      "cell_type": "code",
      "execution_count": null,
      "metadata": {
        "colab": {
          "base_uri": "https://localhost:8080/",
          "height": 467
        },
        "id": "D00rTInHqdje",
        "outputId": "cc78d385-3598-4be7-94c6-e868a78bc4d1"
      },
      "outputs": [
        {
          "output_type": "execute_result",
          "data": {
            "text/plain": [
              "array([1385,  435])"
            ]
          },
          "metadata": {},
          "execution_count": 21
        },
        {
          "output_type": "display_data",
          "data": {
            "text/plain": [
              "<Figure size 640x480 with 1 Axes>"
            ],
            "image/png": "[encoded data removed]"
          },
          "metadata": {}
        }
      ],
      "source": [
        "#Let us see how many devices is 3G supported or not.\n",
        "sns.countplot(x=df_new['three_g'],saturation=0.75,width=0.5)\n",
        "values=df_new['three_g'].value_counts().values\n",
        "values"
      ]
    },
    {
      "cell_type": "markdown",
      "metadata": {
        "id": "Amk3Rym2vRAa"
      },
      "source": [
        "Now we can see 1385 devices is 3G supported and 435 devices not supported 3G"
      ]
    },
    {
      "cell_type": "code",
      "execution_count": null,
      "metadata": {
        "colab": {
          "base_uri": "https://localhost:8080/",
          "height": 406
        },
        "id": "mFkOQkksuyi9",
        "outputId": "c7fdd466-97c3-4594-8f43-2b4a20a4bbd3"
      },
      "outputs": [
        {
          "output_type": "display_data",
          "data": {
            "text/plain": [
              "<Figure size 640x480 with 1 Axes>"
            ],
            "image/png": "[encoded data removed]"
          },
          "metadata": {}
        }
      ],
      "source": [
        "#% of Phones which support 3G\n",
        "labels = [\"3G-supported\",'Not supported']\n",
        "fig1, ax1 = plt.subplots()\n",
        "ax1.pie(values, labels=labels, autopct='%1.1f%%',startangle=90)\n",
        "plt.show()\n",
        "\n"
      ]
    },
    {
      "cell_type": "markdown",
      "metadata": {
        "id": "kzI3r56dxx3-"
      },
      "source": [
        "Here we can see 76% phones 4G supported, and 24% not supported 3G Network."
      ]
    },
    {
      "cell_type": "code",
      "execution_count": null,
      "metadata": {
        "colab": {
          "base_uri": "https://localhost:8080/",
          "height": 450
        },
        "id": "YNz7JfaDs__M",
        "outputId": "d1e00a84-01c7-4ca3-a37f-4ba75d24d352"
      },
      "outputs": [
        {
          "output_type": "display_data",
          "data": {
            "text/plain": [
              "<Figure size 640x480 with 1 Axes>"
            ],
            "image/png": "[encoded data removed]"
          },
          "metadata": {}
        }
      ],
      "source": [
        "#Let us see how many mobiles have 2 slot sim and how many only one slot\n",
        "sns.countplot(x=df_new['dual_sim'],saturation=0.75,width=0.5)\n",
        "plt.show()"
      ]
    },
    {
      "cell_type": "markdown",
      "source": [
        "Almost half of devices is dual_sim and half don't have."
      ],
      "metadata": {
        "id": "eMc9_e16Rtnn"
      }
    },
    {
      "cell_type": "code",
      "source": [
        "#Let us see how many mobiles have wifi and how many don't.\n",
        "sns.countplot(x=df_new['wifi'],saturation=0.75,width=0.5)\n",
        "plt.show()"
      ],
      "metadata": {
        "id": "dqMdzAzDO1N4",
        "colab": {
          "base_uri": "https://localhost:8080/",
          "height": 449
        },
        "outputId": "fb647ce2-5278-4ef0-d72e-61bd29ccbbdd"
      },
      "execution_count": null,
      "outputs": [
        {
          "output_type": "display_data",
          "data": {
            "text/plain": [
              "<Figure size 640x480 with 1 Axes>"
            ],
            "image/png": "[encoded data removed]"
          },
          "metadata": {}
        }
      ]
    },
    {
      "cell_type": "markdown",
      "metadata": {
        "id": "kBy7kIWDekV4"
      },
      "source": [
        "Now we can see almost half of the devices have wifi and half of the devices don't."
      ]
    },
    {
      "cell_type": "code",
      "execution_count": null,
      "metadata": {
        "colab": {
          "base_uri": "https://localhost:8080/",
          "height": 501
        },
        "id": "dilDpmwk4Lgr",
        "outputId": "9367be22-88f9-4633-be34-c6054177b4f6"
      },
      "outputs": [
        {
          "output_type": "display_data",
          "data": {
            "text/plain": [
              "<Figure size 500x500 with 1 Axes>"
            ],
            "image/png": "[encoded data removed]"
          },
          "metadata": {}
        }
      ],
      "source": [
        "#Let us anaylys some data features and see their distribution First, we see how the battery mAh is spread\n",
        "sns.set(rc={'figure.figsize':(5,5)},)\n",
        "sns.displot(x=df_new['battery_power'])\n",
        "plt.show()"
      ]
    },
    {
      "cell_type": "markdown",
      "metadata": {
        "id": "pbKwOtmR4e2j"
      },
      "source": [
        "A few mobile are very thin and a few mobile are almost a cm thick."
      ]
    },
    {
      "cell_type": "code",
      "execution_count": null,
      "metadata": {
        "colab": {
          "base_uri": "https://localhost:8080/",
          "height": 501
        },
        "id": "q5o-d7APINRf",
        "outputId": "a778148c-d17d-498c-f45f-f16973647e44"
      },
      "outputs": [
        {
          "output_type": "display_data",
          "data": {
            "text/plain": [
              "<Figure size 500x500 with 1 Axes>"
            ],
            "image/png": "[encoded data removed]"
          },
          "metadata": {}
        }
      ],
      "source": [
        "#Let us see the distribution of devices weight\n",
        "sns.set(rc={\"figure.figsize\":(10,10)})\n",
        "ax =sns.displot(data= df_new['mobile_wt'])\n",
        "plt.show()"
      ]
    },
    {
      "cell_type": "code",
      "execution_count": null,
      "metadata": {
        "colab": {
          "base_uri": "https://localhost:8080/",
          "height": 501
        },
        "id": "Bm4YM4aP8ybg",
        "outputId": "32a25b33-89e5-49b6-854e-86d1837c53bc"
      },
      "outputs": [
        {
          "output_type": "display_data",
          "data": {
            "text/plain": [
              "<Figure size 500x500 with 1 Axes>"
            ],
            "image/png": "[encoded data removed]"
          },
          "metadata": {}
        }
      ],
      "source": [
        "#Next, we analyse the mobile depth in(cm)\n",
        "sns.set(rc={'figure.figsize':(5,5)})\n",
        "ax = sns.displot(data=df_new['m_dep'])\n",
        "plt.show()"
      ]
    },
    {
      "cell_type": "markdown",
      "metadata": {
        "id": "ojubVDPpF4pk"
      },
      "source": [
        "A few mobile are very thin and a few ones are almost a cm thick.\n",
        "\n"
      ]
    },
    {
      "cell_type": "code",
      "source": [
        "#Let us see the distribution of the mobile phones on the basis of clock speed.\n",
        "sns.set(rc={'figure.figsize':(5,5)})\n",
        "ax = sns.displot(data=df_new['clock_speed'])\n",
        "plt.show()"
      ],
      "metadata": {
        "id": "mWFEKnAHV8Vk",
        "colab": {
          "base_uri": "https://localhost:8080/",
          "height": 501
        },
        "outputId": "40dda2d5-8e45-4ead-92be-941567ff1b94"
      },
      "execution_count": null,
      "outputs": [
        {
          "output_type": "display_data",
          "data": {
            "text/plain": [
              "<Figure size 500x500 with 1 Axes>"
            ],
            "image/png": "[encoded data removed]"
          },
          "metadata": {}
        }
      ]
    },
    {
      "cell_type": "markdown",
      "source": [
        "This displot shows that maximum number of mobile phones have 0.5 ghz of clock\n",
        "speed.More than 100 mobile phones has 3.0 ghz clock speed & around 500 mobile phones has 0.5 ghz speed, rest og phones 1.0, 1.5, 2.0 and 2.5 clock speed."
      ],
      "metadata": {
        "id": "tbQxQoLmXIjv"
      }
    },
    {
      "cell_type": "code",
      "source": [
        "#Let us see how many phones have front camera and how many phones don't.\n",
        "sns.set(rc={'figure.figsize':(5,5)})\n",
        "ax = sns.displot(data=df_new['fc'])\n",
        "plt.show()"
      ],
      "metadata": {
        "colab": {
          "base_uri": "https://localhost:8080/",
          "height": 501
        },
        "id": "rR2ZG7Pdm2M_",
        "outputId": "9b93746b-ac34-4742-f34a-9a163e87a022"
      },
      "execution_count": null,
      "outputs": [
        {
          "output_type": "display_data",
          "data": {
            "text/plain": [
              "<Figure size 500x500 with 1 Axes>"
            ],
            "image/png": "[encoded data removed]"
          },
          "metadata": {}
        }
      ]
    },
    {
      "cell_type": "markdown",
      "source": [
        "This plot shows that more than 400 mobile phones have 0 megapixel camera, it means that these mobile phones have no front facing camera."
      ],
      "metadata": {
        "id": "kXfVQhWRnjnk"
      }
    },
    {
      "cell_type": "markdown",
      "source": [
        "# **Check Outliers**"
      ],
      "metadata": {
        "id": "Oa20wfFZ8lbv"
      }
    },
    {
      "cell_type": "code",
      "execution_count": null,
      "metadata": {
        "colab": {
          "base_uri": "https://localhost:8080/",
          "height": 413
        },
        "id": "hlTyjKInNqaG",
        "outputId": "ac9b55ce-187e-46a1-a4f2-40752e990462"
      },
      "outputs": [
        {
          "output_type": "display_data",
          "data": {
            "text/plain": [
              "<Figure size 2500x1000 with 1 Axes>"
            ],
            "image/png": "[encoded data removed]"
          },
          "metadata": {}
        }
      ],
      "source": [
        "#Let us check outliars in tha data\n",
        "fig = plt.figure(figsize =(25, 10))\n",
        "sns.boxplot(df_new)\n",
        "plt.show()"
      ]
    },
    {
      "cell_type": "markdown",
      "metadata": {
        "id": "EUeZPmWDGm4z"
      },
      "source": [
        "In our data set we did not find any outliers. Here the boxplot shows no outliers in our data set.\n",
        "\n"
      ]
    },
    {
      "cell_type": "code",
      "execution_count": null,
      "metadata": {
        "colab": {
          "base_uri": "https://localhost:8080/",
          "height": 491
        },
        "id": "tbXuVpUJWgvD",
        "outputId": "59fd5903-0fbd-4081-c338-15477407648d"
      },
      "outputs": [
        {
          "output_type": "execute_result",
          "data": {
            "text/plain": [
              "<Axes: xlabel='price_range', ylabel='ram'>"
            ]
          },
          "metadata": {},
          "execution_count": 31
        },
        {
          "output_type": "display_data",
          "data": {
            "text/plain": [
              "<Figure size 500x500 with 1 Axes>"
            ],
            "image/png": "[encoded data removed]"
          },
          "metadata": {}
        }
      ],
      "source": [
        "#Let us see is ram affecting price_range\n",
        "sns.scatterplot(x=df_new['price_range'],y=df_new['ram'])"
      ]
    },
    {
      "cell_type": "markdown",
      "metadata": {
        "id": "vRiZRn5r4k-Q"
      },
      "source": [
        "Here we can see ram is affecting price_range. Lower cost mobile ram is less than Higher cost mobile."
      ]
    },
    {
      "cell_type": "code",
      "execution_count": null,
      "metadata": {
        "colab": {
          "base_uri": "https://localhost:8080/",
          "height": 474
        },
        "id": "BOGWvtTRgSlC",
        "outputId": "1170564f-7c9a-4d5c-9856-b257f000b05a"
      },
      "outputs": [
        {
          "output_type": "display_data",
          "data": {
            "text/plain": [
              "<Figure size 500x500 with 1 Axes>"
            ],
            "image/png": "[encoded data removed]"
          },
          "metadata": {}
        }
      ],
      "source": [
        "#Let us see battery power effecting of price range with 4_g\n",
        "sns.scatterplot(x=df_new['price_range'],y=df_new['battery_power'],hue=df_new['four_g'])\n",
        "plt.show()"
      ]
    },
    {
      "cell_type": "markdown",
      "metadata": {
        "id": "NKAAVVsVrSUm"
      },
      "source": [
        "Here we can see every devies have same kind of battery power, but not every phone have 4_G Support. Battery power is not affecting the price_range."
      ]
    },
    {
      "cell_type": "code",
      "execution_count": null,
      "metadata": {
        "colab": {
          "base_uri": "https://localhost:8080/"
        },
        "id": "H4Xxw5igHPnk",
        "outputId": "cacdfc53-2bfd-4d4c-d791-a27047f89e0d"
      },
      "outputs": [
        {
          "output_type": "execute_result",
          "data": {
            "text/plain": [
              "battery_power    False\n",
              "blue             False\n",
              "clock_speed      False\n",
              "dual_sim         False\n",
              "fc               False\n",
              "four_g           False\n",
              "int_memory       False\n",
              "m_dep            False\n",
              "mobile_wt        False\n",
              "n_cores          False\n",
              "pc               False\n",
              "px_height        False\n",
              "px_width         False\n",
              "ram              False\n",
              "sc_h             False\n",
              "sc_w             False\n",
              "talk_time        False\n",
              "three_g          False\n",
              "touch_screen     False\n",
              "wifi             False\n",
              "dtype: bool"
            ]
          },
          "metadata": {},
          "execution_count": 33
        }
      ],
      "source": [
        "#Let us see if there are any missing values or missing data.\n",
        "X = df_new.drop(['price_range'],axis=1)\n",
        "y = df_new['price_range']\n",
        "#missing values\n",
        "X.isna().any()\n"
      ]
    },
    {
      "cell_type": "markdown",
      "metadata": {
        "id": "W0OZUJM2IXrJ"
      },
      "source": [
        "# ***Let us split the data.***"
      ]
    },
    {
      "cell_type": "code",
      "execution_count": null,
      "metadata": {
        "id": "MPaWRHeAWmyz"
      },
      "outputs": [],
      "source": [
        "# First we need to drop the target column from the data set and store in the y variable\n",
        "X =df_new.drop(['price_range'],axis=1)\n",
        "y=df_new['price_range']\n"
      ]
    },
    {
      "cell_type": "code",
      "execution_count": null,
      "metadata": {
        "colab": {
          "base_uri": "https://localhost:8080/"
        },
        "id": "ztKnMNhiIh_f",
        "outputId": "2de635eb-8dfa-4160-eaaf-63e33874c136"
      },
      "outputs": [
        {
          "output_type": "execute_result",
          "data": {
            "text/plain": [
              "((1456, 20), (364, 20))"
            ]
          },
          "metadata": {},
          "execution_count": 35
        }
      ],
      "source": [
        "# Split data into training and testing sets\n",
        "from sklearn.model_selection import train_test_split\n",
        "X_train, X_test, y_train, y_test= train_test_split(X, y, test_size=0.2, random_state=42)\n",
        "X_train.shape, X_test.shape"
      ]
    },
    {
      "cell_type": "markdown",
      "metadata": {
        "id": "-FGbk0_2ZlWm"
      },
      "source": [
        "# ***Training the model***"
      ]
    },
    {
      "cell_type": "markdown",
      "metadata": {
        "id": "CyIifrEWZ2u6"
      },
      "source": [
        "# ***Decision Tree Classifier***"
      ]
    },
    {
      "cell_type": "markdown",
      "metadata": {
        "id": "0p_vx3cI8aoI"
      },
      "source": [
        "A decision tree is a tree-like model used in machine learning that makes decisions by recursively splitting data based on features to predict outcomes or classify data."
      ]
    },
    {
      "cell_type": "code",
      "execution_count": null,
      "metadata": {
        "id": "SAgs7k2zZviZ"
      },
      "outputs": [],
      "source": [
        "#Decision tree does't need stander Scaler because distance does'nt matter here.\n",
        "# Create the decision tree classifier model\n",
        "from sklearn.tree import DecisionTreeClassifier\n",
        "dt=DecisionTreeClassifier()"
      ]
    },
    {
      "cell_type": "code",
      "execution_count": null,
      "metadata": {
        "colab": {
          "base_uri": "https://localhost:8080/",
          "height": 74
        },
        "id": "OdI8RG53aVLd",
        "outputId": "d934306c-ea98-4781-978a-a27ea2851688"
      },
      "outputs": [
        {
          "output_type": "execute_result",
          "data": {
            "text/plain": [
              "DecisionTreeClassifier()"
            ],
            "text/html": [
              "<style>#sk-container-id-1 {color: black;background-color: white;}#sk-container-id-1 pre{padding: 0;}#sk-container-id-1 div.sk-toggleable {background-color: white;}#sk-container-id-1 label.sk-toggleable__label {cursor: pointer;display: block;width: 100%;margin-bottom: 0;padding: 0.3em;box-sizing: border-box;text-align: center;}#sk-container-id-1 label.sk-toggleable__label-arrow:before {content: \"▸\";float: left;margin-right: 0.25em;color: #696969;}#sk-container-id-1 label.sk-toggleable__label-arrow:hover:before {color: black;}#sk-container-id-1 div.sk-estimator:hover label.sk-toggleable__label-arrow:before {color: black;}#sk-container-id-1 div.sk-toggleable__content {max-height: 0;max-width: 0;overflow: hidden;text-align: left;background-color: #f0f8ff;}#sk-container-id-1 div.sk-toggleable__content pre {margin: 0.2em;color: black;border-radius: 0.25em;background-color: #f0f8ff;}#sk-container-id-1 input.sk-toggleable__control:checked~div.sk-toggleable__content {max-height: 200px;max-width: 100%;overflow: auto;}#sk-container-id-1 input.sk-toggleable__control:checked~label.sk-toggleable__label-arrow:before {content: \"▾\";}#sk-container-id-1 div.sk-estimator input.sk-toggleable__control:checked~label.sk-toggleable__label {background-color: #d4ebff;}#sk-container-id-1 div.sk-label input.sk-toggleable__control:checked~label.sk-toggleable__label {background-color: #d4ebff;}#sk-container-id-1 input.sk-hidden--visually {border: 0;clip: rect(1px 1px 1px 1px);clip: rect(1px, 1px, 1px, 1px);height: 1px;margin: -1px;overflow: hidden;padding: 0;position: absolute;width: 1px;}#sk-container-id-1 div.sk-estimator {font-family: monospace;background-color: #f0f8ff;border: 1px dotted black;border-radius: 0.25em;box-sizing: border-box;margin-bottom: 0.5em;}#sk-container-id-1 div.sk-estimator:hover {background-color: #d4ebff;}#sk-container-id-1 div.sk-parallel-item::after {content: \"\";width: 100%;border-bottom: 1px solid gray;flex-grow: 1;}#sk-container-id-1 div.sk-label:hover label.sk-toggleable__label {background-color: #d4ebff;}#sk-container-id-1 div.sk-serial::before {content: \"\";position: absolute;border-left: 1px solid gray;box-sizing: border-box;top: 0;bottom: 0;left: 50%;z-index: 0;}#sk-container-id-1 div.sk-serial {display: flex;flex-direction: column;align-items: center;background-color: white;padding-right: 0.2em;padding-left: 0.2em;position: relative;}#sk-container-id-1 div.sk-item {position: relative;z-index: 1;}#sk-container-id-1 div.sk-parallel {display: flex;align-items: stretch;justify-content: center;background-color: white;position: relative;}#sk-container-id-1 div.sk-item::before, #sk-container-id-1 div.sk-parallel-item::before {content: \"\";position: absolute;border-left: 1px solid gray;box-sizing: border-box;top: 0;bottom: 0;left: 50%;z-index: -1;}#sk-container-id-1 div.sk-parallel-item {display: flex;flex-direction: column;z-index: 1;position: relative;background-color: white;}#sk-container-id-1 div.sk-parallel-item:first-child::after {align-self: flex-end;width: 50%;}#sk-container-id-1 div.sk-parallel-item:last-child::after {align-self: flex-start;width: 50%;}#sk-container-id-1 div.sk-parallel-item:only-child::after {width: 0;}#sk-container-id-1 div.sk-dashed-wrapped {border: 1px dashed gray;margin: 0 0.4em 0.5em 0.4em;box-sizing: border-box;padding-bottom: 0.4em;background-color: white;}#sk-container-id-1 div.sk-label label {font-family: monospace;font-weight: bold;display: inline-block;line-height: 1.2em;}#sk-container-id-1 div.sk-label-container {text-align: center;}#sk-container-id-1 div.sk-container {/* jupyter's `normalize.less` sets `[hidden] { display: none; }` but bootstrap.min.css set `[hidden] { display: none !important; }` so we also need the `!important` here to be able to override the default hidden behavior on the sphinx rendered scikit-learn.org. See: https://github.com/scikit-learn/scikit-learn/issues/21755 */display: inline-block !important;position: relative;}#sk-container-id-1 div.sk-text-repr-fallback {display: none;}</style><div id=\"sk-container-id-1\" class=\"sk-top-container\"><div class=\"sk-text-repr-fallback\"><pre>DecisionTreeClassifier()</pre><b>In a Jupyter environment, please rerun this cell to show the HTML representation or trust the notebook. <br />On GitHub, the HTML representation is unable to render, please try loading this page with nbviewer.org.</b></div><div class=\"sk-container\" hidden><div class=\"sk-item\"><div class=\"sk-estimator sk-toggleable\"><input class=\"sk-toggleable__control sk-hidden--visually\" id=\"sk-estimator-id-1\" type=\"checkbox\" checked><label for=\"sk-estimator-id-1\" class=\"sk-toggleable__label sk-toggleable__label-arrow\">DecisionTreeClassifier</label><div class=\"sk-toggleable__content\"><pre>DecisionTreeClassifier()</pre></div></div></div></div></div>"
            ]
          },
          "metadata": {},
          "execution_count": 37
        }
      ],
      "source": [
        "# Train the model\n",
        "dt.fit(X_train,y_train)\n",
        "DecisionTreeClassifier()"
      ]
    },
    {
      "cell_type": "code",
      "execution_count": null,
      "metadata": {
        "colab": {
          "base_uri": "https://localhost:8080/"
        },
        "id": "klKNjIlH_nYN",
        "outputId": "8d8f5a0c-7b87-4aec-8d80-32798858908c"
      },
      "outputs": [
        {
          "output_type": "execute_result",
          "data": {
            "text/plain": [
              "array([3, 1, 1, 1, 2, 0, 1, 2, 1, 3, 1, 0, 1, 1, 2, 1, 2, 2, 1, 2, 1, 0,\n",
              "       0, 3, 1, 2, 1, 3, 2, 0, 0, 2, 1, 3, 3, 0, 3, 2, 0, 1, 2, 0, 1, 0,\n",
              "       2, 1, 1, 0, 2, 3, 3, 3, 0, 3, 1, 1, 0, 3, 0, 2, 1, 0, 2, 0, 2, 1,\n",
              "       1, 1, 3, 2, 3, 2, 3, 0, 0, 2, 2, 0, 3, 0, 2, 1, 2, 3, 3, 0, 1, 3,\n",
              "       1, 3, 3, 1, 3, 0, 1, 0, 0, 3, 0, 0, 2, 2, 2, 0, 1, 3, 2, 0, 2, 0,\n",
              "       2, 0, 0, 0, 3, 2, 2, 0, 1, 2, 2, 1, 2, 0, 0, 3, 2, 3, 3, 3, 2, 3,\n",
              "       0, 3, 0, 1, 2, 0, 3, 2, 2, 2, 2, 0, 2, 3, 1, 3, 3, 2, 3, 2, 3, 1,\n",
              "       2, 3, 0, 2, 1, 1, 1, 3, 1, 1, 2, 0, 2, 2, 3, 1, 3, 2, 2, 3, 1, 0,\n",
              "       0, 3, 2, 2, 2, 0, 1, 0, 0, 0, 0, 1, 1, 1, 1, 1, 3, 1, 1, 1, 0, 2,\n",
              "       3, 0, 1, 3, 2, 2, 0, 2, 1, 3, 3, 3, 2, 2, 0, 3, 0, 0, 2, 0, 3, 2,\n",
              "       1, 1, 2, 0, 3, 1, 2, 0, 3, 1, 0, 2, 3, 1, 3, 2, 1, 0, 0, 3, 1, 3,\n",
              "       0, 1, 1, 1, 2, 2, 3, 3, 0, 1, 0, 0, 3, 2, 1, 3, 2, 1, 3, 3, 1, 2,\n",
              "       1, 0, 2, 0, 1, 2, 3, 3, 1, 1, 1, 2, 0, 3, 2, 0, 0, 1, 1, 1, 2, 1,\n",
              "       0, 2, 1, 0, 0, 2, 1, 2, 3, 1, 3, 2, 3, 3, 2, 2, 0, 1, 1, 2, 3, 3,\n",
              "       2, 3, 3, 1, 3, 2, 3, 1, 3, 3, 3, 1, 3, 1, 0, 1, 2, 1, 1, 0, 0, 3,\n",
              "       3, 0, 1, 0, 2, 1, 2, 3, 0, 1, 3, 3, 0, 3, 2, 2, 2, 1, 2, 3, 3, 1,\n",
              "       3, 2, 1, 0, 1, 2, 0, 1, 0, 3, 1, 3])"
            ]
          },
          "metadata": {},
          "execution_count": 38
        }
      ],
      "source": [
        "# Make prediction on the test set\n",
        "y_pred = dt.predict(X_test)\n",
        "y_pred"
      ]
    },
    {
      "cell_type": "code",
      "execution_count": null,
      "metadata": {
        "colab": {
          "base_uri": "https://localhost:8080/"
        },
        "id": "dBsJqLryFDwg",
        "outputId": "07b9ad2e-44b0-40c1-82af-ba9367c3bd56"
      },
      "outputs": [
        {
          "output_type": "stream",
          "name": "stdout",
          "text": [
            "DecisionTreeClassifier accuracy_score: 82.42%\n"
          ]
        }
      ],
      "source": [
        "# Calculate the accuracy score\n",
        "dt_acc = accuracy_score(y_test, y_pred)\n",
        "\n",
        "print(\"DecisionTreeClassifier accuracy_score: {:.2f}%\".format(dt_acc * 100))"
      ]
    },
    {
      "cell_type": "markdown",
      "source": [
        "Now we can see that Decision Tree Classifier gives us 82% accuracy,which is good for prediction"
      ],
      "metadata": {
        "id": "Ak2YJQCY98o8"
      }
    },
    {
      "cell_type": "markdown",
      "metadata": {
        "id": "gufTkLQYLwLe"
      },
      "source": [
        "# ***Let us tuning the hyperparameter***"
      ]
    },
    {
      "cell_type": "code",
      "execution_count": null,
      "metadata": {
        "colab": {
          "base_uri": "https://localhost:8080/"
        },
        "id": "A_rOo-W3o1f7",
        "outputId": "3768543c-647b-45bb-9fb2-8d0640734e7e"
      },
      "outputs": [
        {
          "output_type": "stream",
          "name": "stdout",
          "text": [
            "Best Model Accuracy on Validation Set: 82.69%\n"
          ]
        }
      ],
      "source": [
        "from sklearn.tree import DecisionTreeClassifier\n",
        "from sklearn.model_selection import GridSearchCV\n",
        "from sklearn.metrics import accuracy_score, make_scorer\n",
        "\n",
        "#Let us split data into Training and validation set\n",
        "X_train, X_val, y_train, y_val= train_test_split(X, y, test_size=0.2, random_state=42)\n",
        "\n",
        "# Create the Decision Tree classifier\n",
        "dt = DecisionTreeClassifier()\n",
        "\n",
        "# Define the hyperparameter grid\n",
        "param_grid = {\n",
        "    'criterion': ['gini', 'entropy'],\n",
        "    'max_depth': [None, 5, 10, 15],\n",
        "    'min_samples_split': [2, 5,10],\n",
        "    'min_samples_leaf': [1, 2, 4],\n",
        "    'max_features': [None, 'sqrt', 'log2'],\n",
        "    'class_weight': [None, 'balanced']\n",
        "}\n",
        "\n",
        "\n",
        "# Create the GridSearchCV object\n",
        "grid_search = GridSearchCV(dt, param_grid, cv=15, scoring=make_scorer(accuracy_score))\n",
        "\n",
        "# Fit the GridSearchCV object to find the best parameters\n",
        "grid_search.fit(X_train, y_train)\n",
        "\n",
        "# Get the best hyperparameters and best model\n",
        "best_params = grid_search.best_params_\n",
        "best_model = grid_search.best_estimator_\n",
        "\n",
        "# Evaluate the best model on the validation set\n",
        "y_pred = best_model.predict(X_val)\n",
        "dt_acc = accuracy_score(y_val, y_pred)\n",
        "print(\"Best Model Accuracy on Validation Set: {:.2f}%\".format(dt_acc * 100))\n"
      ]
    },
    {
      "cell_type": "markdown",
      "source": [
        "After hyperparameter tuning our model accuracy is increase."
      ],
      "metadata": {
        "id": "RbT9uNkg-CBa"
      }
    },
    {
      "cell_type": "markdown",
      "metadata": {
        "id": "pbaXlmK3bob1"
      },
      "source": [
        "# Confusion Matrix"
      ]
    },
    {
      "cell_type": "code",
      "execution_count": null,
      "metadata": {
        "colab": {
          "base_uri": "https://localhost:8080/"
        },
        "id": "Vgaj8R0nVo6f",
        "outputId": "ff3db003-10a2-42bc-bdbb-33da17b07083"
      },
      "outputs": [
        {
          "output_type": "stream",
          "name": "stdout",
          "text": [
            "0.8269230769230769\n",
            "[[76  8  0  0]\n",
            " [ 9 82 11  0]\n",
            " [ 0  9 71 16]\n",
            " [ 0  0 10 72]]\n"
          ]
        }
      ],
      "source": [
        "#Now check accuracy score to check accuracy of the model and confusion matrix to know the performance of the model\n",
        "from sklearn.metrics import accuracy_score, confusion_matrix\n",
        "dt_acc = accuracy_score(y_val, y_pred)\n",
        "print(dt_acc)\n",
        "print(confusion_matrix(y_val, y_pred))"
      ]
    },
    {
      "cell_type": "markdown",
      "metadata": {
        "id": "a4akoceB8aUP"
      },
      "source": [
        "### First we do standardization before applying svm classifier because our data is not in a scale."
      ]
    },
    {
      "cell_type": "code",
      "execution_count": null,
      "metadata": {
        "id": "EVNIJ-H8AUIt"
      },
      "outputs": [],
      "source": [
        "from sklearn.preprocessing import StandardScaler\n",
        "sc = StandardScaler()\n",
        "sc.fit(X_train)\n",
        "X_train_std = sc.transform(X_train)\n",
        "X_test_std = sc.transform(X_test)"
      ]
    },
    {
      "cell_type": "code",
      "execution_count": null,
      "metadata": {
        "colab": {
          "base_uri": "https://localhost:8080/"
        },
        "id": "F4hWdcwQ-f_K",
        "outputId": "6e0e70bb-e40c-4a36-f0ef-0039731ac45d"
      },
      "outputs": [
        {
          "output_type": "execute_result",
          "data": {
            "text/plain": [
              "array([[ 0.29773506,  0.99452051,  0.71213737, ...,  0.56783285,\n",
              "         0.98365012, -1.02644854],\n",
              "       [ 1.48725448, -1.00550968, -1.26215183, ...,  0.56783285,\n",
              "        -1.01662164,  0.97423296],\n",
              "       [ 0.13358588,  0.99452051,  0.71213737, ...,  0.56783285,\n",
              "        -1.01662164, -1.02644854],\n",
              "       ...,\n",
              "       [-0.41732576,  0.99452051,  0.71213737, ...,  0.56783285,\n",
              "         0.98365012, -1.02644854],\n",
              "       [-0.59046942,  0.99452051,  0.83553044, ...,  0.56783285,\n",
              "         0.98365012, -1.02644854],\n",
              "       [ 1.62891747,  0.99452051, -1.26215183, ...,  0.56783285,\n",
              "         0.98365012, -1.02644854]])"
            ]
          },
          "metadata": {},
          "execution_count": 43
        }
      ],
      "source": [
        "X_train_std"
      ]
    },
    {
      "cell_type": "code",
      "source": [
        "X_test_std"
      ],
      "metadata": {
        "colab": {
          "base_uri": "https://localhost:8080/"
        },
        "id": "tiYONV8MGTC2",
        "outputId": "b3d8bada-2c72-4f49-8d58-ac600e10a467"
      },
      "execution_count": null,
      "outputs": [
        {
          "output_type": "execute_result",
          "data": {
            "text/plain": [
              "array([[ 1.27138706,  0.99452051, -0.27500723, ...,  0.56783285,\n",
              "         0.98365012,  0.97423296],\n",
              "       [ 0.91835389,  0.99452051, -1.26215183, ...,  0.56783285,\n",
              "        -1.01662164, -1.02644854],\n",
              "       [-0.90752469,  0.99452051, -1.26215183, ...,  0.56783285,\n",
              "         0.98365012,  0.97423296],\n",
              "       ...,\n",
              "       [ 0.82840913, -1.00550968, -1.26215183, ..., -1.76108161,\n",
              "        -1.01662164,  0.97423296],\n",
              "       [ 0.53159143,  0.99452051,  0.83553044, ...,  0.56783285,\n",
              "        -1.01662164, -1.02644854],\n",
              "       [ 1.31411082, -1.00550968, -0.15161416, ...,  0.56783285,\n",
              "         0.98365012,  0.97423296]])"
            ]
          },
          "metadata": {},
          "execution_count": 44
        }
      ]
    },
    {
      "cell_type": "markdown",
      "metadata": {
        "id": "x8jycYKvBb3c"
      },
      "source": [
        "# ***Support Vector Classifier***"
      ]
    },
    {
      "cell_type": "markdown",
      "source": [
        "It is also a supervised machine learning algorithm"
      ],
      "metadata": {
        "id": "PSPBRE7w-4yu"
      }
    },
    {
      "cell_type": "code",
      "execution_count": null,
      "metadata": {
        "colab": {
          "base_uri": "https://localhost:8080/"
        },
        "id": "YqL_pXfwBGQS",
        "outputId": "c909b2f8-5b1a-4ec7-d001-ca23521e811e"
      },
      "outputs": [
        {
          "output_type": "stream",
          "name": "stdout",
          "text": [
            "Support Vactor Classifier accuracy_score: 87.64%\n"
          ]
        }
      ],
      "source": [
        "# Importing the required libraries\n",
        "from sklearn import datasets\n",
        "from sklearn.model_selection import train_test_split\n",
        "from sklearn.svm import SVC\n",
        "\n",
        "# Creating the SVM classifier\n",
        "svm = SVC()\n",
        "\n",
        "# Training the SVM classifier on the training data\n",
        "svm.fit(X_train_std, y_train)\n",
        "\n",
        "# Making predictions on the testing data\n",
        "y_pred1 = svm.predict(X_test_std)\n",
        "\n",
        "# Calculating the accuracy of the model\n",
        "svm_acc = accuracy_score(y_test, y_pred1)\n",
        "print(\"Support Vactor Classifier accuracy_score: {:.2f}%\".format(svm_acc*100))\n"
      ]
    },
    {
      "cell_type": "markdown",
      "metadata": {
        "id": "WSr1YM5nDD4E"
      },
      "source": [
        "# **Hyperparameter Tuning**"
      ]
    },
    {
      "cell_type": "code",
      "execution_count": null,
      "metadata": {
        "colab": {
          "base_uri": "https://localhost:8080/"
        },
        "id": "GGLxjzG9DAGT",
        "outputId": "bee9fbe8-3528-4241-e88c-09dc0005c26e"
      },
      "outputs": [
        {
          "output_type": "stream",
          "name": "stdout",
          "text": [
            "Best Hyperparameters: {'C': 10, 'gamma': 0.01, 'kernel': 'linear'}\n",
            "Validation Accuracy: 0.9807692307692307\n"
          ]
        }
      ],
      "source": [
        "from sklearn.svm import SVC\n",
        "from sklearn.model_selection import GridSearchCV\n",
        "\n",
        "# Split the data into training and validation sets\n",
        "X_train, X_val, y_train, y_val = train_test_split(X, y, test_size=0.2, random_state=42)\n",
        "\n",
        "# Define the SVM classifier\n",
        "svm = SVC()\n",
        "\n",
        "# Define the parameter grid for the grid search\n",
        "param_grid = {\n",
        "    'C': [0.1, 1, 10],            # Regularization parameter\n",
        "    'kernel': ['linear', 'rbf'],  # Kernel type\n",
        "    'gamma': [0.01, 0.1, 1]       # Kernel coefficient for 'rbf'\n",
        "}\n",
        "\n",
        "# Create the GridSearchCV object with 5-fold cross-validation\n",
        "grid_search = GridSearchCV(estimator=svm, param_grid=param_grid, cv=5)\n",
        "\n",
        "# Perform the grid search with cross-validation on the training data\n",
        "grid_search.fit(X_train, y_train)\n",
        "\n",
        "# Get the best hyperparameters found by GridSearchCV\n",
        "best_params = grid_search.best_params_\n",
        "print(\"Best Hyperparameters:\", best_params)\n",
        "\n",
        "# Evaluate the best model on the validation set\n",
        "best_svm = grid_search.best_estimator_\n",
        "accuracy = best_svm.score(X_val,y_val)\n",
        "print(\"Validation Accuracy:\", accuracy)\n",
        "\n"
      ]
    },
    {
      "cell_type": "markdown",
      "metadata": {
        "id": "VlHvBXerNZkH"
      },
      "source": [
        "# ***3).Logistic Regression***"
      ]
    },
    {
      "cell_type": "markdown",
      "metadata": {
        "id": "KeVzFNuFQr0J"
      },
      "source": [
        "Logistic regression algorithm also use for classification problem."
      ]
    },
    {
      "cell_type": "code",
      "execution_count": null,
      "metadata": {
        "colab": {
          "base_uri": "https://localhost:8080/",
          "height": 74
        },
        "id": "P0yUwSU8Nw5i",
        "outputId": "72590539-eb5c-42b4-c9f2-319885ec646b"
      },
      "outputs": [
        {
          "output_type": "execute_result",
          "data": {
            "text/plain": [
              "LogisticRegression()"
            ],
            "text/html": [
              "<style>#sk-container-id-2 {color: black;background-color: white;}#sk-container-id-2 pre{padding: 0;}#sk-container-id-2 div.sk-toggleable {background-color: white;}#sk-container-id-2 label.sk-toggleable__label {cursor: pointer;display: block;width: 100%;margin-bottom: 0;padding: 0.3em;box-sizing: border-box;text-align: center;}#sk-container-id-2 label.sk-toggleable__label-arrow:before {content: \"▸\";float: left;margin-right: 0.25em;color: #696969;}#sk-container-id-2 label.sk-toggleable__label-arrow:hover:before {color: black;}#sk-container-id-2 div.sk-estimator:hover label.sk-toggleable__label-arrow:before {color: black;}#sk-container-id-2 div.sk-toggleable__content {max-height: 0;max-width: 0;overflow: hidden;text-align: left;background-color: #f0f8ff;}#sk-container-id-2 div.sk-toggleable__content pre {margin: 0.2em;color: black;border-radius: 0.25em;background-color: #f0f8ff;}#sk-container-id-2 input.sk-toggleable__control:checked~div.sk-toggleable__content {max-height: 200px;max-width: 100%;overflow: auto;}#sk-container-id-2 input.sk-toggleable__control:checked~label.sk-toggleable__label-arrow:before {content: \"▾\";}#sk-container-id-2 div.sk-estimator input.sk-toggleable__control:checked~label.sk-toggleable__label {background-color: #d4ebff;}#sk-container-id-2 div.sk-label input.sk-toggleable__control:checked~label.sk-toggleable__label {background-color: #d4ebff;}#sk-container-id-2 input.sk-hidden--visually {border: 0;clip: rect(1px 1px 1px 1px);clip: rect(1px, 1px, 1px, 1px);height: 1px;margin: -1px;overflow: hidden;padding: 0;position: absolute;width: 1px;}#sk-container-id-2 div.sk-estimator {font-family: monospace;background-color: #f0f8ff;border: 1px dotted black;border-radius: 0.25em;box-sizing: border-box;margin-bottom: 0.5em;}#sk-container-id-2 div.sk-estimator:hover {background-color: #d4ebff;}#sk-container-id-2 div.sk-parallel-item::after {content: \"\";width: 100%;border-bottom: 1px solid gray;flex-grow: 1;}#sk-container-id-2 div.sk-label:hover label.sk-toggleable__label {background-color: #d4ebff;}#sk-container-id-2 div.sk-serial::before {content: \"\";position: absolute;border-left: 1px solid gray;box-sizing: border-box;top: 0;bottom: 0;left: 50%;z-index: 0;}#sk-container-id-2 div.sk-serial {display: flex;flex-direction: column;align-items: center;background-color: white;padding-right: 0.2em;padding-left: 0.2em;position: relative;}#sk-container-id-2 div.sk-item {position: relative;z-index: 1;}#sk-container-id-2 div.sk-parallel {display: flex;align-items: stretch;justify-content: center;background-color: white;position: relative;}#sk-container-id-2 div.sk-item::before, #sk-container-id-2 div.sk-parallel-item::before {content: \"\";position: absolute;border-left: 1px solid gray;box-sizing: border-box;top: 0;bottom: 0;left: 50%;z-index: -1;}#sk-container-id-2 div.sk-parallel-item {display: flex;flex-direction: column;z-index: 1;position: relative;background-color: white;}#sk-container-id-2 div.sk-parallel-item:first-child::after {align-self: flex-end;width: 50%;}#sk-container-id-2 div.sk-parallel-item:last-child::after {align-self: flex-start;width: 50%;}#sk-container-id-2 div.sk-parallel-item:only-child::after {width: 0;}#sk-container-id-2 div.sk-dashed-wrapped {border: 1px dashed gray;margin: 0 0.4em 0.5em 0.4em;box-sizing: border-box;padding-bottom: 0.4em;background-color: white;}#sk-container-id-2 div.sk-label label {font-family: monospace;font-weight: bold;display: inline-block;line-height: 1.2em;}#sk-container-id-2 div.sk-label-container {text-align: center;}#sk-container-id-2 div.sk-container {/* jupyter's `normalize.less` sets `[hidden] { display: none; }` but bootstrap.min.css set `[hidden] { display: none !important; }` so we also need the `!important` here to be able to override the default hidden behavior on the sphinx rendered scikit-learn.org. See: https://github.com/scikit-learn/scikit-learn/issues/21755 */display: inline-block !important;position: relative;}#sk-container-id-2 div.sk-text-repr-fallback {display: none;}</style><div id=\"sk-container-id-2\" class=\"sk-top-container\"><div class=\"sk-text-repr-fallback\"><pre>LogisticRegression()</pre><b>In a Jupyter environment, please rerun this cell to show the HTML representation or trust the notebook. <br />On GitHub, the HTML representation is unable to render, please try loading this page with nbviewer.org.</b></div><div class=\"sk-container\" hidden><div class=\"sk-item\"><div class=\"sk-estimator sk-toggleable\"><input class=\"sk-toggleable__control sk-hidden--visually\" id=\"sk-estimator-id-2\" type=\"checkbox\" checked><label for=\"sk-estimator-id-2\" class=\"sk-toggleable__label sk-toggleable__label-arrow\">LogisticRegression</label><div class=\"sk-toggleable__content\"><pre>LogisticRegression()</pre></div></div></div></div></div>"
            ]
          },
          "metadata": {},
          "execution_count": 47
        }
      ],
      "source": [
        "#Building a linear regression model\n",
        "from sklearn.linear_model import LogisticRegression\n",
        "\n",
        "#Creating the logistic regression classifier\n",
        "lr = LogisticRegression()\n",
        "\n",
        "# Training the SVM classifier on the training data\n",
        "lr.fit(X_train_std,y_train)"
      ]
    },
    {
      "cell_type": "code",
      "execution_count": null,
      "metadata": {
        "id": "MiKbcXCMOuH8"
      },
      "outputs": [],
      "source": [
        "# Making predictions on the testing data\n",
        "y_pred2 =lr.predict(X_test_std)"
      ]
    },
    {
      "cell_type": "code",
      "execution_count": null,
      "metadata": {
        "colab": {
          "base_uri": "https://localhost:8080/"
        },
        "id": "YMh9ubmMPOHq",
        "outputId": "847cbcdf-f87f-49e3-cdfb-70c8475c66da"
      },
      "outputs": [
        {
          "output_type": "stream",
          "name": "stdout",
          "text": [
            "LogisticRegression accuracy_score 0.9615384615384616\n"
          ]
        }
      ],
      "source": [
        "# Calculating the accuracy of the model\n",
        "lr_acc = accuracy_score(y_test,y_pred2)\n",
        "print(\"LogisticRegression accuracy_score\", lr_acc)"
      ]
    },
    {
      "cell_type": "markdown",
      "source": [
        "Here we can see that Logistic Regression is better performing both Decision Tree Classifier and SVC.And gives us 96% of the accuracy,which is good for prediction."
      ],
      "metadata": {
        "id": "AsEdvMrwAu6w"
      }
    },
    {
      "cell_type": "markdown",
      "metadata": {
        "id": "7WXrmoui1Gc7"
      },
      "source": [
        "# **Hyperparameter Tuning**"
      ]
    },
    {
      "cell_type": "code",
      "execution_count": null,
      "metadata": {
        "id": "5aNFOnfXwCzU",
        "colab": {
          "base_uri": "https://localhost:8080/"
        },
        "outputId": "80584356-554d-4df2-d9d0-879be5297595"
      },
      "outputs": [
        {
          "output_type": "stream",
          "name": "stdout",
          "text": [
            "Best Hyperparameters: {'C': 1.727780074568463, 'penalty': 'l1', 'solver': 'liblinear'}\n",
            "Test Accuracy: 0.8324175824175825\n"
          ]
        }
      ],
      "source": [
        "from sklearn.model_selection import RandomizedSearchCV\n",
        "from scipy.stats import uniform\n",
        "import warnings\n",
        "warnings.filterwarnings('ignore')\n",
        "X_train, X_val, y_train, y_val = train_test_split(X, y, test_size=0.2, random_state=42)\n",
        "\n",
        "# Define the hyperparameters and their possible values for tuning\n",
        "param_distributions = {\n",
        "    'penalty': ['l1', 'l2'],\n",
        "    'C': uniform(loc=0, scale=4),     # Regularization parameter, sampled from a uniform distribution [0, 4)\n",
        "    'solver': ['liblinear', 'saga'],  # Solvers for optimization\n",
        "}\n",
        "\n",
        "# Perform RandomizedSearchCV with cross-validation\n",
        "random_search = RandomizedSearchCV(lr, param_distributions, n_iter=100, cv=5, random_state=42)\n",
        "random_search.fit(X_train, y_train)\n",
        "\n",
        "# Print the best hyperparameters found during the search\n",
        "print(\"Best Hyperparameters:\", random_search.best_params_)\n",
        "\n",
        "# Evaluate the model with the best hyperparameters on the test set\n",
        "best_classifier = random_search.best_estimator_\n",
        "accuracy = best_classifier.score(X_val, y_val)\n",
        "print(\"Test Accuracy:\", accuracy)\n"
      ]
    },
    {
      "cell_type": "code",
      "execution_count": null,
      "metadata": {
        "id": "ZPOScb5J0pif",
        "colab": {
          "base_uri": "https://localhost:8080/"
        },
        "outputId": "9959afaf-a017-4374-8786-972a8b873717"
      },
      "outputs": [
        {
          "output_type": "stream",
          "name": "stdout",
          "text": [
            "0.9615384615384616\n",
            "[[83  1  0  0]\n",
            " [ 3 96  3  0]\n",
            " [ 0  2 91  3]\n",
            " [ 0  0  2 80]]\n"
          ]
        }
      ],
      "source": [
        "#Now check accuracy score to check accuracy of the model and confusion matrix to know the performance of the model\n",
        "from sklearn.metrics import accuracy_score, confusion_matrix\n",
        "lr_acc = accuracy_score(y_val, y_pred2)\n",
        "print(lr_acc)\n",
        "print(confusion_matrix(y_val, y_pred2))"
      ]
    },
    {
      "cell_type": "code",
      "execution_count": null,
      "metadata": {
        "id": "RW68XSry_RAQ",
        "colab": {
          "base_uri": "https://localhost:8080/",
          "height": 476
        },
        "outputId": "f37785d4-40e8-45bc-8847-587b3c52d035"
      },
      "outputs": [
        {
          "output_type": "display_data",
          "data": {
            "text/plain": [
              "<Figure size 500x500 with 1 Axes>"
            ],
            "image/png": "[encoded data removed]"
          },
          "metadata": {}
        }
      ],
      "source": [
        "#Make bar plot among all three models to know that which model is performing better\n",
        "plt.bar(x=['dt','svm','lr'],height=[dt_acc,svm_acc,lr_acc])\n",
        "plt.xlabel(\"Algorithm\")\n",
        "plt.ylabel(\"Accuracy Score\")\n",
        "plt.show()"
      ]
    },
    {
      "cell_type": "markdown",
      "metadata": {
        "id": "m4xmva1md8Bj"
      },
      "source": [
        "# ***Conclusion***\n",
        "\n",
        "-In this classification problem (Mobile Price Range Prediction) statement we saw that it has 2000 rows and 21 columns.\n",
        "\n",
        ":-We started with data understanding,data wrangling,basic EDA and we found some trends between price range and independent variables.And we found that every column in our dataset is equally important for building a model.\n",
        "\n",
        ":-We also do standardization for logistic regression (Decision Tree clssifier and SVM Classifier does not need standard Scaler)to make our data in one scale.It is a technique to re scale features value with the distribution value between 0 and 1.\n",
        "\n",
        ":-Implemented various classification algorithms like Decision Tree,SVM classifier and Logistic regression,we found that logistic regression gives us the best result.Which gives us 96% of the accuracy,than SVM classifier 87% and than Decision Tree Classifier that is 81%.\n",
        "\n",
        "After Hyperparameter Tuning Decision Tree Classifier gives us accuracy around 83 percent, SVM classifier gives accuracy 98 percent and Logistic Regression gives accuracy 87 percent.It means after hyperparameter tuning our all three models accuracy is increased"
      ]
    }
  ],
  "metadata": {
    "colab": {
      "provenance": [],
      "mount_file_id": "1Tt7FELwgeEXR69ZgXno0Ze4fR1QAlnUj",
      "authorship_tag": "ABX9TyOUykIQ8N9QJEoSGHi16G1p",
      "include_colab_link": true
    },
    "kernelspec": {
      "display_name": "Python 3",
      "name": "python3"
    },
    "language_info": {
      "name": "python"
    }
  },
  "nbformat": 4,
  "nbformat_minor": 0
}